{
 "cells": [
  {
   "cell_type": "code",
   "execution_count": 8,
   "metadata": {},
   "outputs": [],
   "source": [
    "import numpy as np\n",
    "import matplotlib.pyplot as plt"
   ]
  },
  {
   "cell_type": "code",
   "execution_count": 2,
   "metadata": {},
   "outputs": [],
   "source": [
    "def gallery(array, ncols=3):\n",
    "    nindex, height, width, intensity = array.shape\n",
    "    nrows = nindex//ncols\n",
    "    assert nindex == nrows*ncols\n",
    "    # want result.shape = (height*nrows, width*ncols, intensity)\n",
    "    result = (array.reshape(nrows, ncols, height, width, intensity)\n",
    "              .swapaxes(1,2)\n",
    "              .reshape(height*nrows, width*ncols, intensity))\n",
    "    return result"
   ]
  },
  {
   "cell_type": "code",
   "execution_count": 12,
   "metadata": {},
   "outputs": [],
   "source": [
    "def make_array():\n",
    "    from PIL import Image\n",
    "    return np.array([np.asarray(Image.open('casita.png').convert('RGB'))]*12)"
   ]
  },
  {
   "cell_type": "code",
   "execution_count": 13,
   "metadata": {},
   "outputs": [
    {
     "data": {
      "text/plain": [
       "array([[[0, 0, 0],\n",
       "        [0, 0, 0],\n",
       "        [0, 0, 0],\n",
       "        ...,\n",
       "        [0, 0, 0],\n",
       "        [0, 0, 0],\n",
       "        [0, 0, 0]],\n",
       "\n",
       "       [[0, 0, 0],\n",
       "        [0, 0, 0],\n",
       "        [0, 0, 0],\n",
       "        ...,\n",
       "        [0, 0, 0],\n",
       "        [0, 0, 0],\n",
       "        [0, 0, 0]],\n",
       "\n",
       "       [[0, 0, 0],\n",
       "        [0, 0, 0],\n",
       "        [0, 0, 0],\n",
       "        ...,\n",
       "        [0, 0, 0],\n",
       "        [0, 0, 0],\n",
       "        [0, 0, 0]],\n",
       "\n",
       "       ...,\n",
       "\n",
       "       [[0, 0, 0],\n",
       "        [0, 0, 0],\n",
       "        [0, 0, 0],\n",
       "        ...,\n",
       "        [0, 0, 0],\n",
       "        [0, 0, 0],\n",
       "        [0, 0, 0]],\n",
       "\n",
       "       [[0, 0, 0],\n",
       "        [0, 0, 0],\n",
       "        [0, 0, 0],\n",
       "        ...,\n",
       "        [0, 0, 0],\n",
       "        [0, 0, 0],\n",
       "        [0, 0, 0]],\n",
       "\n",
       "       [[0, 0, 0],\n",
       "        [0, 0, 0],\n",
       "        [0, 0, 0],\n",
       "        ...,\n",
       "        [0, 0, 0],\n",
       "        [0, 0, 0],\n",
       "        [0, 0, 0]]], dtype=uint8)"
      ]
     },
     "execution_count": 13,
     "metadata": {},
     "output_type": "execute_result"
    }
   ],
   "source": [
    "array = make_array()\n",
    "array[0]"
   ]
  },
  {
   "cell_type": "code",
   "execution_count": 14,
   "metadata": {},
   "outputs": [],
   "source": [
    "result = gallery(array)"
   ]
  },
  {
   "cell_type": "code",
   "execution_count": 6,
   "metadata": {},
   "outputs": [
    {
     "data": {
      "text/plain": [
       "array([[ 12,  10,  34],\n",
       "       [  0,   8,  17],\n",
       "       [  0,   7,   7],\n",
       "       [ 17,  24,  70],\n",
       "       [ 12,  10,  60],\n",
       "       [  4,   6,   5],\n",
       "       [  0,   0,  16],\n",
       "       [  7,  14,  32],\n",
       "       [  6,   0,  12],\n",
       "       [  2,   8,  30],\n",
       "       [ 13,  25,  73],\n",
       "       [  0,   5,  24],\n",
       "       [  9,   0,   0],\n",
       "       [106,  71,  75],\n",
       "       [174, 127, 133],\n",
       "       [182, 134, 120],\n",
       "       [202, 171, 151],\n",
       "       [255, 233, 215],\n",
       "       [255, 244, 224],\n",
       "       [246, 245, 225],\n",
       "       [252, 254, 233],\n",
       "       [255, 253, 235],\n",
       "       [228, 209, 195],\n",
       "       [232, 206, 193],\n",
       "       [212, 176, 164],\n",
       "       [183, 143, 131],\n",
       "       [167, 124, 108],\n",
       "       [169, 122, 106],\n",
       "       [165, 116, 102],\n",
       "       [162, 114, 102],\n",
       "       [154, 110, 101],\n",
       "       [141,  98,  92],\n",
       "       [127, 101,  86],\n",
       "       [124,  90,  81],\n",
       "       [127,  91,  95],\n",
       "       [ 87,  63,  89],\n",
       "       [ 18,  15,  58],\n",
       "       [  3,  15,  53],\n",
       "       [  3,  12,  27],\n",
       "       [  1,   4,   0],\n",
       "       [  4,   0,  19],\n",
       "       [  4,   4,  16],\n",
       "       [  1,   9,  12],\n",
       "       [ 21,  28,  54],\n",
       "       [  4,   7,  52],\n",
       "       [  4,   7,  24],\n",
       "       [  3,   4,   0],\n",
       "       [  5,   0,  11],\n",
       "       [ 12,  10,  34],\n",
       "       [  0,   8,  17],\n",
       "       [  0,   7,   7],\n",
       "       [ 17,  24,  70],\n",
       "       [ 12,  10,  60],\n",
       "       [  4,   6,   5],\n",
       "       [  0,   0,  16],\n",
       "       [  7,  14,  32],\n",
       "       [  6,   0,  12],\n",
       "       [  2,   8,  30],\n",
       "       [ 13,  25,  73],\n",
       "       [  0,   5,  24],\n",
       "       [  9,   0,   0],\n",
       "       [106,  71,  75],\n",
       "       [174, 127, 133],\n",
       "       [182, 134, 120],\n",
       "       [202, 171, 151],\n",
       "       [255, 233, 215],\n",
       "       [255, 244, 224],\n",
       "       [246, 245, 225],\n",
       "       [252, 254, 233],\n",
       "       [255, 253, 235],\n",
       "       [228, 209, 195],\n",
       "       [232, 206, 193],\n",
       "       [212, 176, 164],\n",
       "       [183, 143, 131],\n",
       "       [167, 124, 108],\n",
       "       [169, 122, 106],\n",
       "       [165, 116, 102],\n",
       "       [162, 114, 102],\n",
       "       [154, 110, 101],\n",
       "       [141,  98,  92],\n",
       "       [127, 101,  86],\n",
       "       [124,  90,  81],\n",
       "       [127,  91,  95],\n",
       "       [ 87,  63,  89],\n",
       "       [ 18,  15,  58],\n",
       "       [  3,  15,  53],\n",
       "       [  3,  12,  27],\n",
       "       [  1,   4,   0],\n",
       "       [  4,   0,  19],\n",
       "       [  4,   4,  16],\n",
       "       [  1,   9,  12],\n",
       "       [ 21,  28,  54],\n",
       "       [  4,   7,  52],\n",
       "       [  4,   7,  24],\n",
       "       [  3,   4,   0],\n",
       "       [  5,   0,  11],\n",
       "       [ 12,  10,  34],\n",
       "       [  0,   8,  17],\n",
       "       [  0,   7,   7],\n",
       "       [ 17,  24,  70],\n",
       "       [ 12,  10,  60],\n",
       "       [  4,   6,   5],\n",
       "       [  0,   0,  16],\n",
       "       [  7,  14,  32],\n",
       "       [  6,   0,  12],\n",
       "       [  2,   8,  30],\n",
       "       [ 13,  25,  73],\n",
       "       [  0,   5,  24],\n",
       "       [  9,   0,   0],\n",
       "       [106,  71,  75],\n",
       "       [174, 127, 133],\n",
       "       [182, 134, 120],\n",
       "       [202, 171, 151],\n",
       "       [255, 233, 215],\n",
       "       [255, 244, 224],\n",
       "       [246, 245, 225],\n",
       "       [252, 254, 233],\n",
       "       [255, 253, 235],\n",
       "       [228, 209, 195],\n",
       "       [232, 206, 193],\n",
       "       [212, 176, 164],\n",
       "       [183, 143, 131],\n",
       "       [167, 124, 108],\n",
       "       [169, 122, 106],\n",
       "       [165, 116, 102],\n",
       "       [162, 114, 102],\n",
       "       [154, 110, 101],\n",
       "       [141,  98,  92],\n",
       "       [127, 101,  86],\n",
       "       [124,  90,  81],\n",
       "       [127,  91,  95],\n",
       "       [ 87,  63,  89],\n",
       "       [ 18,  15,  58],\n",
       "       [  3,  15,  53],\n",
       "       [  3,  12,  27],\n",
       "       [  1,   4,   0],\n",
       "       [  4,   0,  19],\n",
       "       [  4,   4,  16],\n",
       "       [  1,   9,  12],\n",
       "       [ 21,  28,  54],\n",
       "       [  4,   7,  52],\n",
       "       [  4,   7,  24],\n",
       "       [  3,   4,   0],\n",
       "       [  5,   0,  11]], dtype=uint8)"
      ]
     },
     "execution_count": 6,
     "metadata": {},
     "output_type": "execute_result"
    }
   ],
   "source": [
    "result[0]"
   ]
  },
  {
   "cell_type": "code",
   "execution_count": 15,
   "metadata": {},
   "outputs": [
    {
     "data": {
      "text/plain": [
       "<matplotlib.image.AxesImage at 0x7fa7d1618828>"
      ]
     },
     "execution_count": 15,
     "metadata": {},
     "output_type": "execute_result"
    },
    {
     "data": {
      "image/png": "[encoded data removed]",
      "text/plain": [
       "<Figure size 432x288 with 1 Axes>"
      ]
     },
     "metadata": {
      "needs_background": "light"
     },
     "output_type": "display_data"
    }
   ],
   "source": [
    "plt.imshow(result)"
   ]
  },
  {
   "cell_type": "code",
   "execution_count": null,
   "metadata": {},
   "outputs": [],
   "source": []
  }
 ],
 "metadata": {
  "kernelspec": {
   "display_name": "Python 3",
   "language": "python",
   "name": "python3"
  },
  "language_info": {
   "codemirror_mode": {
    "name": "ipython",
    "version": 3
   },
   "file_extension": ".py",
   "mimetype": "text/x-python",
   "name": "python",
   "nbconvert_exporter": "python",
   "pygments_lexer": "ipython3",
   "version": "3.7.3"
  }
 },
 "nbformat": 4,
 "nbformat_minor": 2
}
