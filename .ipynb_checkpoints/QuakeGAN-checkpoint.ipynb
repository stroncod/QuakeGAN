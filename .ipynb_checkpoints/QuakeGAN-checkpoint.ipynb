{
 "cells": [
  {
   "cell_type": "code",
   "execution_count": 24,
   "metadata": {},
   "outputs": [],
   "source": [
    "import pandas as pd\n",
    "import numpy as np\n",
    "from PIL import Image\n",
    "import matplotlib.pyplot as plt\n",
    "import pickle\n",
    "import os"
   ]
  },
  {
   "cell_type": "code",
   "execution_count": 2,
   "metadata": {},
   "outputs": [
    {
     "data": {
      "text/html": [
       "<div>\n",
       "<style scoped>\n",
       "    .dataframe tbody tr th:only-of-type {\n",
       "        vertical-align: middle;\n",
       "    }\n",
       "\n",
       "    .dataframe tbody tr th {\n",
       "        vertical-align: top;\n",
       "    }\n",
       "\n",
       "    .dataframe thead th {\n",
       "        text-align: right;\n",
       "    }\n",
       "</style>\n",
       "<table border=\"1\" class=\"dataframe\">\n",
       "  <thead>\n",
       "    <tr style=\"text-align: right;\">\n",
       "      <th></th>\n",
       "      <th>Año</th>\n",
       "      <th>Mes</th>\n",
       "      <th>Día</th>\n",
       "      <th>Hora</th>\n",
       "      <th>Minuto</th>\n",
       "      <th>Segundo</th>\n",
       "      <th>Fecha</th>\n",
       "      <th>Latitud</th>\n",
       "      <th>Longitud</th>\n",
       "      <th>Prof.</th>\n",
       "      <th>Magn</th>\n",
       "      <th>Date</th>\n",
       "      <th>Horario</th>\n",
       "      <th>Dtime</th>\n",
       "      <th>time</th>\n",
       "      <th>diff</th>\n",
       "    </tr>\n",
       "  </thead>\n",
       "  <tbody>\n",
       "    <tr>\n",
       "      <th>0</th>\n",
       "      <td>2000</td>\n",
       "      <td>1</td>\n",
       "      <td>2</td>\n",
       "      <td>3</td>\n",
       "      <td>42</td>\n",
       "      <td>12.7</td>\n",
       "      <td>36527</td>\n",
       "      <td>-33.410</td>\n",
       "      <td>-70.880</td>\n",
       "      <td>81.9</td>\n",
       "      <td>2.5</td>\n",
       "      <td>36527</td>\n",
       "      <td>0.154314</td>\n",
       "      <td>36527.15431</td>\n",
       "      <td>1.154314</td>\n",
       "      <td>0.000000</td>\n",
       "    </tr>\n",
       "    <tr>\n",
       "      <th>1</th>\n",
       "      <td>2000</td>\n",
       "      <td>1</td>\n",
       "      <td>2</td>\n",
       "      <td>5</td>\n",
       "      <td>3</td>\n",
       "      <td>13.1</td>\n",
       "      <td>36527</td>\n",
       "      <td>-33.787</td>\n",
       "      <td>-71.339</td>\n",
       "      <td>45.8</td>\n",
       "      <td>3.7</td>\n",
       "      <td>36527</td>\n",
       "      <td>0.210568</td>\n",
       "      <td>36527.21057</td>\n",
       "      <td>1.210568</td>\n",
       "      <td>0.056255</td>\n",
       "    </tr>\n",
       "    <tr>\n",
       "      <th>2</th>\n",
       "      <td>2000</td>\n",
       "      <td>1</td>\n",
       "      <td>2</td>\n",
       "      <td>18</td>\n",
       "      <td>55</td>\n",
       "      <td>55.0</td>\n",
       "      <td>36527</td>\n",
       "      <td>-31.535</td>\n",
       "      <td>-71.318</td>\n",
       "      <td>35.7</td>\n",
       "      <td>3.8</td>\n",
       "      <td>36527</td>\n",
       "      <td>0.788831</td>\n",
       "      <td>36527.78883</td>\n",
       "      <td>1.788831</td>\n",
       "      <td>0.578263</td>\n",
       "    </tr>\n",
       "    <tr>\n",
       "      <th>3</th>\n",
       "      <td>2000</td>\n",
       "      <td>1</td>\n",
       "      <td>2</td>\n",
       "      <td>19</td>\n",
       "      <td>36</td>\n",
       "      <td>25.8</td>\n",
       "      <td>36527</td>\n",
       "      <td>-32.446</td>\n",
       "      <td>-70.923</td>\n",
       "      <td>95.2</td>\n",
       "      <td>2.7</td>\n",
       "      <td>36527</td>\n",
       "      <td>0.816965</td>\n",
       "      <td>36527.81697</td>\n",
       "      <td>1.816965</td>\n",
       "      <td>0.028134</td>\n",
       "    </tr>\n",
       "    <tr>\n",
       "      <th>4</th>\n",
       "      <td>2000</td>\n",
       "      <td>1</td>\n",
       "      <td>3</td>\n",
       "      <td>2</td>\n",
       "      <td>41</td>\n",
       "      <td>41.7</td>\n",
       "      <td>36528</td>\n",
       "      <td>-32.986</td>\n",
       "      <td>-71.348</td>\n",
       "      <td>41.8</td>\n",
       "      <td>3.6</td>\n",
       "      <td>36528</td>\n",
       "      <td>0.112288</td>\n",
       "      <td>36528.11229</td>\n",
       "      <td>2.112288</td>\n",
       "      <td>0.295323</td>\n",
       "    </tr>\n",
       "  </tbody>\n",
       "</table>\n",
       "</div>"
      ],
      "text/plain": [
       "    Año  Mes  Día  Hora  Minuto  Segundo  Fecha  Latitud  Longitud  Prof.  \\\n",
       "0  2000    1    2     3      42     12.7  36527  -33.410   -70.880   81.9   \n",
       "1  2000    1    2     5       3     13.1  36527  -33.787   -71.339   45.8   \n",
       "2  2000    1    2    18      55     55.0  36527  -31.535   -71.318   35.7   \n",
       "3  2000    1    2    19      36     25.8  36527  -32.446   -70.923   95.2   \n",
       "4  2000    1    3     2      41     41.7  36528  -32.986   -71.348   41.8   \n",
       "\n",
       "   Magn   Date   Horario        Dtime      time      diff  \n",
       "0   2.5  36527  0.154314  36527.15431  1.154314  0.000000  \n",
       "1   3.7  36527  0.210568  36527.21057  1.210568  0.056255  \n",
       "2   3.8  36527  0.788831  36527.78883  1.788831  0.578263  \n",
       "3   2.7  36527  0.816965  36527.81697  1.816965  0.028134  \n",
       "4   3.6  36528  0.112288  36528.11229  2.112288  0.295323  "
      ]
     },
     "execution_count": 2,
     "metadata": {},
     "output_type": "execute_result"
    }
   ],
   "source": [
    "dataset = pd.read_csv('data_earthquake_2000-2017.csv',encoding='latin1', sep=';')\n",
    "dataset.head()"
   ]
  },
  {
   "cell_type": "code",
   "execution_count": 18,
   "metadata": {},
   "outputs": [],
   "source": [
    "%matplotlib inline\n",
    "TIME_STEP = 9\n",
    "IMG_SIZE = 32\n",
    "TIME_WND = 50 #IN DAYS\n"
   ]
  },
  {
   "cell_type": "code",
   "execution_count": 7,
   "metadata": {},
   "outputs": [
    {
     "name": "stdout",
     "output_type": "stream",
     "text": [
      "(37195, 16)\n",
      "(37195, 16)\n"
     ]
    }
   ],
   "source": [
    "print(dataset.shape)\n",
    "dataset = dataset[dataset['Prof.'] >= 60.0 ]\n",
    "print(dataset.shape)"
   ]
  },
  {
   "cell_type": "code",
   "execution_count": 8,
   "metadata": {},
   "outputs": [
    {
     "name": "stdout",
     "output_type": "stream",
     "text": [
      "(37195, 16)\n",
      "(16389, 16)\n"
     ]
    }
   ],
   "source": [
    "zone1 = dataset[dataset['Latitud'] > -23]\n",
    "zone2 = dataset[(dataset.Latitud < -23) & (dataset.Latitud > -34)] \n",
    "zone3 = dataset[dataset['Latitud'] < -34]\n",
    "print(dataset.shape)\n",
    "print(zone1.shape)\n"
   ]
  },
  {
   "cell_type": "code",
   "execution_count": 27,
   "metadata": {},
   "outputs": [
    {
     "name": "stderr",
     "output_type": "stream",
     "text": [
      "/home/sergio/anaconda3/lib/python3.7/site-packages/ipykernel_launcher.py:6: SettingWithCopyWarning: \n",
      "A value is trying to be set on a copy of a slice from a DataFrame.\n",
      "Try using .loc[row_indexer,col_indexer] = value instead\n",
      "\n",
      "See the caveats in the documentation: http://pandas.pydata.org/pandas-docs/stable/indexing.html#indexing-view-versus-copy\n",
      "  \n"
     ]
    }
   ],
   "source": [
    "def scale(data,new_min, new_max):\n",
    "    old_max = data['Magn'].max()\n",
    "    old_min = data['Magn'].min()\n",
    "    old_range =  old_max - old_min\n",
    "    new_range = new_max - new_min \n",
    "    data['Magn'] = data['Magn'].apply(lambda v: int(((v-old_min)*new_range)/old_range)+new_min)\n",
    "    return data\n",
    "\n",
    "zone1 = scale(zone1,25,255)"
   ]
  },
  {
   "cell_type": "code",
   "execution_count": 19,
   "metadata": {},
   "outputs": [
    {
     "data": {
      "text/plain": [
       "[       Año  Mes  Día  Hora  Minuto  Segundo  Fecha  Latitud  Longitud  Prof.  \\\n",
       " 2136  2001    6   19     9      32     14.4  37061  -22.494   -68.555  143.0   \n",
       " \n",
       "       Magn   Date   Horario        Dtime        time      diff  \n",
       " 2136   5.2  37061  0.397389  37061.39739  535.397389  0.087113  ,\n",
       " Empty DataFrame\n",
       " Columns: [Año, Mes, Día, Hora, Minuto, Segundo, Fecha, Latitud, Longitud, Prof., Magn, Date, Horario, Dtime, time, diff]\n",
       " Index: [],\n",
       " Empty DataFrame\n",
       " Columns: [Año, Mes, Día, Hora, Minuto, Segundo, Fecha, Latitud, Longitud, Prof., Magn, Date, Horario, Dtime, time, diff]\n",
       " Index: [],\n",
       " Empty DataFrame\n",
       " Columns: [Año, Mes, Día, Hora, Minuto, Segundo, Fecha, Latitud, Longitud, Prof., Magn, Date, Horario, Dtime, time, diff]\n",
       " Index: [],\n",
       " Empty DataFrame\n",
       " Columns: [Año, Mes, Día, Hora, Minuto, Segundo, Fecha, Latitud, Longitud, Prof., Magn, Date, Horario, Dtime, time, diff]\n",
       " Index: [],\n",
       " Empty DataFrame\n",
       " Columns: [Año, Mes, Día, Hora, Minuto, Segundo, Fecha, Latitud, Longitud, Prof., Magn, Date, Horario, Dtime, time, diff]\n",
       " Index: [],\n",
       " Empty DataFrame\n",
       " Columns: [Año, Mes, Día, Hora, Minuto, Segundo, Fecha, Latitud, Longitud, Prof., Magn, Date, Horario, Dtime, time, diff]\n",
       " Index: [],\n",
       " Empty DataFrame\n",
       " Columns: [Año, Mes, Día, Hora, Minuto, Segundo, Fecha, Latitud, Longitud, Prof., Magn, Date, Horario, Dtime, time, diff]\n",
       " Index: []]"
      ]
     },
     "execution_count": 19,
     "metadata": {},
     "output_type": "execute_result"
    }
   ],
   "source": [
    "def build_time_series(data,y_col=0):\n",
    "    FIRST = data.Date[:1].values[0]\n",
    "    dim_0 = data.shape[0]- TIME_WND\n",
    "    \n",
    "    y = []\n",
    "    series = []\n",
    "    X = []\n",
    "    k = 1\n",
    "    for i in range(dim_0):\n",
    "        series_df = data[(data.Date >= FIRST+i) & (data.Date < FIRST+i+TIME_WND)]\n",
    "        k+=1\n",
    "        series.append(series_df)\n",
    "        if(k==TIME_STEP):\n",
    "            y_df = data[data.Date == FIRST+i+TIME_WND]\n",
    "            \n",
    "            X.append(series)\n",
    "            y.append(y_df)\n",
    "            series = []\n",
    "            k = 1\n",
    "\n",
    "    return X,y\n",
    "\n",
    "X,y = build_time_series(zone1)\n",
    "X[0]"
   ]
  },
  {
   "cell_type": "code",
   "execution_count": 22,
   "metadata": {},
   "outputs": [
    {
     "data": {
      "text/plain": [
       "-17.506"
      ]
     },
     "execution_count": 22,
     "metadata": {},
     "output_type": "execute_result"
    }
   ],
   "source": [
    "def init_latlon(data):\n",
    "    lat_max = data['Latitud'].max()\n",
    "    lat_min = data['Latitud'].min()\n",
    "    lon_max = data['Longitud'].max()\n",
    "    lon_min = data['Longitud'].min()\n",
    "    lat_m = data['Latitud'].mean()\n",
    "    lon_m = data['Longitud'].mean()\n",
    "    \n",
    "    return lat_max,lat_min,lon_max,lon_min,lat_m,lon_m\n",
    "\n",
    "\n",
    "lat_max,lat_min,lon_max,lon_min,lat_m,lon_m = init_latlon(zone1)\n"
   ]
  },
  {
   "cell_type": "code",
   "execution_count": 25,
   "metadata": {},
   "outputs": [
    {
     "ename": "PermissionError",
     "evalue": "[Errno 13] Permission denied: '/images'",
     "output_type": "error",
     "traceback": [
      "\u001b[0;31m---------------------------------------------------------------------------\u001b[0m",
      "\u001b[0;31mPermissionError\u001b[0m                           Traceback (most recent call last)",
      "\u001b[0;32m<ipython-input-25-d8a4d6492d68>\u001b[0m in \u001b[0;36m<module>\u001b[0;34m\u001b[0m\n\u001b[1;32m     43\u001b[0m         \u001b[0mplt\u001b[0m\u001b[0;34m.\u001b[0m\u001b[0msavefig\u001b[0m\u001b[0;34m(\u001b[0m\u001b[0mseries_path\u001b[0m\u001b[0;34m+\u001b[0m\u001b[0;34m'Yquakemap.jpg'\u001b[0m\u001b[0;34m)\u001b[0m\u001b[0;34m\u001b[0m\u001b[0;34m\u001b[0m\u001b[0m\n\u001b[1;32m     44\u001b[0m \u001b[0;34m\u001b[0m\u001b[0m\n\u001b[0;32m---> 45\u001b[0;31m \u001b[0mcreate_pre_images\u001b[0m\u001b[0;34m(\u001b[0m\u001b[0mX\u001b[0m\u001b[0;34m,\u001b[0m\u001b[0my\u001b[0m\u001b[0;34m)\u001b[0m\u001b[0;34m\u001b[0m\u001b[0;34m\u001b[0m\u001b[0m\n\u001b[0m",
      "\u001b[0;32m<ipython-input-25-d8a4d6492d68>\u001b[0m in \u001b[0;36mcreate_pre_images\u001b[0;34m(X, y)\u001b[0m\n\u001b[1;32m      4\u001b[0m     \u001b[0mdirectory\u001b[0m \u001b[0;34m=\u001b[0m \u001b[0mos\u001b[0m\u001b[0;34m.\u001b[0m\u001b[0mpath\u001b[0m\u001b[0;34m.\u001b[0m\u001b[0mdirname\u001b[0m\u001b[0;34m(\u001b[0m\u001b[0mfile_path\u001b[0m\u001b[0;34m)\u001b[0m\u001b[0;34m\u001b[0m\u001b[0;34m\u001b[0m\u001b[0m\n\u001b[1;32m      5\u001b[0m     \u001b[0;32mif\u001b[0m \u001b[0;32mnot\u001b[0m \u001b[0mos\u001b[0m\u001b[0;34m.\u001b[0m\u001b[0mpath\u001b[0m\u001b[0;34m.\u001b[0m\u001b[0mexists\u001b[0m\u001b[0;34m(\u001b[0m\u001b[0mdirectory\u001b[0m\u001b[0;34m)\u001b[0m\u001b[0;34m:\u001b[0m\u001b[0;34m\u001b[0m\u001b[0;34m\u001b[0m\u001b[0m\n\u001b[0;32m----> 6\u001b[0;31m         \u001b[0mos\u001b[0m\u001b[0;34m.\u001b[0m\u001b[0mmakedirs\u001b[0m\u001b[0;34m(\u001b[0m\u001b[0mdirectory\u001b[0m\u001b[0;34m)\u001b[0m\u001b[0;34m\u001b[0m\u001b[0;34m\u001b[0m\u001b[0m\n\u001b[0m\u001b[1;32m      7\u001b[0m \u001b[0;34m\u001b[0m\u001b[0m\n\u001b[1;32m      8\u001b[0m     \u001b[0;32mfor\u001b[0m \u001b[0mi\u001b[0m\u001b[0;34m,\u001b[0m \u001b[0mserie\u001b[0m \u001b[0;32min\u001b[0m \u001b[0menumerate\u001b[0m\u001b[0;34m(\u001b[0m\u001b[0mX\u001b[0m\u001b[0;34m)\u001b[0m\u001b[0;34m:\u001b[0m\u001b[0;34m\u001b[0m\u001b[0;34m\u001b[0m\u001b[0m\n",
      "\u001b[0;32m~/anaconda3/lib/python3.7/os.py\u001b[0m in \u001b[0;36mmakedirs\u001b[0;34m(name, mode, exist_ok)\u001b[0m\n\u001b[1;32m    209\u001b[0m     \u001b[0;32mif\u001b[0m \u001b[0mhead\u001b[0m \u001b[0;32mand\u001b[0m \u001b[0mtail\u001b[0m \u001b[0;32mand\u001b[0m \u001b[0;32mnot\u001b[0m \u001b[0mpath\u001b[0m\u001b[0;34m.\u001b[0m\u001b[0mexists\u001b[0m\u001b[0;34m(\u001b[0m\u001b[0mhead\u001b[0m\u001b[0;34m)\u001b[0m\u001b[0;34m:\u001b[0m\u001b[0;34m\u001b[0m\u001b[0;34m\u001b[0m\u001b[0m\n\u001b[1;32m    210\u001b[0m         \u001b[0;32mtry\u001b[0m\u001b[0;34m:\u001b[0m\u001b[0;34m\u001b[0m\u001b[0;34m\u001b[0m\u001b[0m\n\u001b[0;32m--> 211\u001b[0;31m             \u001b[0mmakedirs\u001b[0m\u001b[0;34m(\u001b[0m\u001b[0mhead\u001b[0m\u001b[0;34m,\u001b[0m \u001b[0mexist_ok\u001b[0m\u001b[0;34m=\u001b[0m\u001b[0mexist_ok\u001b[0m\u001b[0;34m)\u001b[0m\u001b[0;34m\u001b[0m\u001b[0;34m\u001b[0m\u001b[0m\n\u001b[0m\u001b[1;32m    212\u001b[0m         \u001b[0;32mexcept\u001b[0m \u001b[0mFileExistsError\u001b[0m\u001b[0;34m:\u001b[0m\u001b[0;34m\u001b[0m\u001b[0;34m\u001b[0m\u001b[0m\n\u001b[1;32m    213\u001b[0m             \u001b[0;31m# Defeats race condition when another thread created the path\u001b[0m\u001b[0;34m\u001b[0m\u001b[0;34m\u001b[0m\u001b[0;34m\u001b[0m\u001b[0m\n",
      "\u001b[0;32m~/anaconda3/lib/python3.7/os.py\u001b[0m in \u001b[0;36mmakedirs\u001b[0;34m(name, mode, exist_ok)\u001b[0m\n\u001b[1;32m    219\u001b[0m             \u001b[0;32mreturn\u001b[0m\u001b[0;34m\u001b[0m\u001b[0;34m\u001b[0m\u001b[0m\n\u001b[1;32m    220\u001b[0m     \u001b[0;32mtry\u001b[0m\u001b[0;34m:\u001b[0m\u001b[0;34m\u001b[0m\u001b[0;34m\u001b[0m\u001b[0m\n\u001b[0;32m--> 221\u001b[0;31m         \u001b[0mmkdir\u001b[0m\u001b[0;34m(\u001b[0m\u001b[0mname\u001b[0m\u001b[0;34m,\u001b[0m \u001b[0mmode\u001b[0m\u001b[0;34m)\u001b[0m\u001b[0;34m\u001b[0m\u001b[0;34m\u001b[0m\u001b[0m\n\u001b[0m\u001b[1;32m    222\u001b[0m     \u001b[0;32mexcept\u001b[0m \u001b[0mOSError\u001b[0m\u001b[0;34m:\u001b[0m\u001b[0;34m\u001b[0m\u001b[0;34m\u001b[0m\u001b[0m\n\u001b[1;32m    223\u001b[0m         \u001b[0;31m# Cannot rely on checking for EEXIST, since the operating system\u001b[0m\u001b[0;34m\u001b[0m\u001b[0;34m\u001b[0m\u001b[0;34m\u001b[0m\u001b[0m\n",
      "\u001b[0;31mPermissionError\u001b[0m: [Errno 13] Permission denied: '/images'"
     ]
    }
   ],
   "source": [
    "def create_pre_images(X,y):\n",
    "    \n",
    "    original_umask = os.umask(0)\n",
    "    \n",
    "    file_path = \"/images/pre_images/\"\n",
    "    directory = os.path.dirname(file_path)\n",
    "    if not os.path.exists(directory):\n",
    "        os.makedirs(directory,0755)\n",
    "    \n",
    "    for i, serie in enumerate(X):\n",
    "        series_path = '/images/pre_images/series_'+str(i)+'/'\n",
    "        series_dir = os.path.dirname(series_path)\n",
    "        os.makedirs(series_dir,0755)\n",
    "        for j, data in enumerate(serie):\n",
    "            fig = plt.figure(figsize=(8, 8))\n",
    "            m = Basemap(llcrnrlon=lon_min,llcrnrlat=lat_min,urcrnrlon=lon_max,urcrnrlat=lat_max,\n",
    "                        resolution='i',projection='lcc',lat_0=lat_m,lon_0=lon_m)\n",
    "            m.shadedrelief()\n",
    "            m.drawcoastlines(color='gray')\n",
    "            m.drawcountries(color='gray')\n",
    "            \n",
    "            if not data.empty:\n",
    "                lat = data['Latitud'].values\n",
    "                lon = data['Longitud'].values\n",
    "                magn = data['Magn'].values\n",
    "                m.scatter(lon, lat, latlon=True,\n",
    "                          c=magn, cmap='Reds', alpha=0.5)\n",
    "\n",
    "            plt.savefig(series_path+'Xquakemap_'+str(j)+'.jpg')\n",
    "    \n",
    "    for i, data in enumerate(y):\n",
    "        series_path = '/images/pre_images/series_'+str(i)+'/'\n",
    "        fig = plt.figure(figsize=(8, 8))\n",
    "        m = Basemap(llcrnrlon=lon_min,llcrnrlat=lat_min,urcrnrlon=lon_max,urcrnrlat=lat_max,\n",
    "                    resolution='i',projection='lcc',lat_0=lat_m,lon_0=lon_m)\n",
    "        m.shadedrelief()\n",
    "        m.drawcoastlines(color='gray')\n",
    "        m.drawcountries(color='gray')\n",
    "        if not data.empty:\n",
    "            lat = data['Latitud'].values\n",
    "            lon = data['Longitud'].values\n",
    "            magn = data['Magn'].values\n",
    "            m.scatter(lon, lat, latlon=True,\n",
    "                      c=magn, cmap='Reds', alpha=0.5)\n",
    "        plt.savefig(series_path+'Yquakemap.jpg')\n",
    "\n",
    "create_pre_images(X,y)"
   ]
  },
  {
   "cell_type": "code",
   "execution_count": 37,
   "metadata": {},
   "outputs": [],
   "source": [
    "def create_matrix(data,current_date):\n",
    "    max_lat = data['Latitud'].max()\n",
    "    min_lat = data['Latitud'].min()\n",
    "    max_lon = data['Longitud'].max()\n",
    "    min_lon = data['Longitud'].min()\n",
    "    n_rows = n_columns = IMG_SIZE\n",
    "    matrix = np.zeros(shape=(n_rows,n_columns),dtype=int)\n",
    "    n_sum_lat = (max_lat-min_lat)/n_columns\n",
    "    n_sum_lon = (max_lon-min_lon)/n_rows\n",
    "    \n",
    "    X = []\n",
    "    for k in range (TIME_STEP):\n",
    "        #dayk = data.loc[(data['Date'] == current_date+k)]\n",
    "        dayk = data.loc[(data.Date >= current_date+k) & (data.Date < first+k+TIME_WND)]\n",
    "        start_lon = min_lon\n",
    "        end_lon = min_lon + n_sum_lon\n",
    "        for i in range (n_rows):\n",
    "            start_lat = min_lat\n",
    "            end_lat = min_lat + n_sum_lat\n",
    "            for j in range (n_columns):\n",
    "                x = dayk.loc[(dayk['Latitud'] >= start_lat) & (dayk['Latitud'] <= end_lat) & (dayk['Longitud'] >= start_lon) & (dayk['Longitud'] <= end_lon)]\n",
    "                #print(x.Magn.values,end = '')\n",
    "                matrix[i][j] = x['Magn'].max() if (len(x['Magn'].values) != 0) else 25 #new_min\n",
    "                #print(matrix[i][j],end = '')\n",
    "                start_lat = end_lat\n",
    "                end_lat = end_lat + n_sum_lat\n",
    "            #print('')\n",
    "            start_lon = end_lon\n",
    "            end_lon = end_lon + n_sum_lon\n",
    "        #print('*****************************************************************')\n",
    "        #X.append(matrix.flatten())\n",
    "        #img = Image.fromarray(matrix.astype('uint8'),'L')\n",
    "        X.append(matrix.astype('uint8'))\n",
    "    return np.array(X)"
   ]
  },
  {
   "cell_type": "code",
   "execution_count": null,
   "metadata": {},
   "outputs": [],
   "source": []
  },
  {
   "cell_type": "code",
   "execution_count": 38,
   "metadata": {},
   "outputs": [],
   "source": [
    "X = []\n",
    "for num, serie in enumerate(series):\n",
    "    X.append(create_matrix(serie,first+num))\n",
    "pickle_X_out = open(\"X.pickle\",\"wb\")\n",
    "pickle.dump(X,pickle_X_out)\n",
    "pickle_X_out.close()\n"
   ]
  },
  {
   "cell_type": "code",
   "execution_count": null,
   "metadata": {},
   "outputs": [],
   "source": [
    "aux = [create_matrix(series[0],first)]"
   ]
  },
  {
   "cell_type": "code",
   "execution_count": 34,
   "metadata": {},
   "outputs": [],
   "source": [
    "def create_images_input(X,mode='h',ncols=3):\n",
    "    \n",
    "    if mode == 'h':\n",
    "        for it, images in enumerate(X):\n",
    "        \n",
    "            widths, heights = zip(*(i.size for i in images))\n",
    "            total_width = sum(widths)\n",
    "            max_height = max(heights)\n",
    "        \n",
    "            new_im = Image.new('L', (total_width, max_height))\n",
    "        \n",
    "            x_offset = 0\n",
    "            #print(len(images))\n",
    "        \n",
    "            for im in images:\n",
    "                plt.imshow(np.asarray(im))\n",
    "                new_im.paste(im, (x_offset,0))\n",
    "                x_offset += im.size[0]\n",
    "   \n",
    "            #imshow(np.asarray(new_im))\n",
    "            new_im.save(\"images/quake3-{0}.jpg\".format(it), \"JPEG\", quality=80, optimize=True, progressive=True)\n",
    "    if mode == 'grid':\n",
    "        for it, images in enumerate(X):\n",
    "            nindex, height, width = images.shape\n",
    "            nrows = nindex//ncols\n",
    "            assert nindex == nrows*ncols\n",
    "            # want result.shape = (height*nrows, width*ncols, intensity)\n",
    "            result = (images.reshape(nrows, ncols, height, width)\n",
    "                      .swapaxes(1,2)\n",
    "                      .reshape(height*nrows, width*ncols))\n",
    "            new_im = Image.fromarray(result,'L')\n",
    "            new_im.save(\"images/quake3-grid-{0}.jpg\".format(it))\n",
    "            "
   ]
  },
  {
   "cell_type": "code",
   "execution_count": 39,
   "metadata": {},
   "outputs": [],
   "source": [
    "create_images_input(X,'grid',3)"
   ]
  },
  {
   "cell_type": "code",
   "execution_count": 43,
   "metadata": {},
   "outputs": [],
   "source": []
  },
  {
   "cell_type": "code",
   "execution_count": 16,
   "metadata": {},
   "outputs": [],
   "source": [
    "def create_images_output(out):\n",
    "    for arr in out:\n",
    "        for i,matrix in enumerate(arr):\n",
    "            #matrix = np.array(matrix)\n",
    "            height, width = matrix.shape\n",
    "            nrows = TIME_WND//3\n",
    "            assert TIME_WND == nrows*3\n",
    "            im = Image.fromarray(matrix,'L')\n",
    "            \n",
    "\n",
    "            new_im = im.resize((96,96), Image.NEAREST)  \n",
    "            new_im.save(\"images/quake3-out-{0}.jpg\".format(i))"
   ]
  },
  {
   "cell_type": "code",
   "execution_count": 46,
   "metadata": {},
   "outputs": [],
   "source": [
    "pickle_y_out = open(\"y.pickle\",\"wb\")\n",
    "pickle.dump(out,pickle_y_out)\n",
    "pickle_y_out.close()"
   ]
  },
  {
   "cell_type": "code",
   "execution_count": 21,
   "metadata": {},
   "outputs": [],
   "source": [
    "def create_output_matrix(data,current_date):\n",
    "    max_lat = data['Latitud'].max()\n",
    "    min_lat = data['Latitud'].min()\n",
    "    max_lon = data['Longitud'].max()\n",
    "    min_lon = data['Longitud'].min()\n",
    "    n_rows = n_columns = IMG_SIZE\n",
    "    matrix = np.zeros(shape=(n_rows,n_columns),dtype=int)\n",
    "    n_sum_lat = (max_lat-min_lat)/n_columns\n",
    "    n_sum_lon = (max_lon-min_lon)/n_rows\n",
    "    \n",
    "    \n",
    "        #dayk = data.loc[(data['Date'] == current_date+k)]\n",
    "    dayk = data\n",
    "    start_lon = min_lon\n",
    "    end_lon = min_lon + n_sum_lon\n",
    "    for i in range (n_rows):\n",
    "        start_lat = min_lat\n",
    "        end_lat = min_lat + n_sum_lat\n",
    "        for j in range (n_columns):\n",
    "            x = dayk.loc[(dayk['Latitud'] >= start_lat) & (dayk['Latitud'] <= end_lat) & (dayk['Longitud'] >= start_lon) & (dayk['Longitud'] <= end_lon)]\n",
    "                #print(x.Magn.values,end = '')\n",
    "            matrix[i][j] = x['Magn'].max() if (len(x['Magn'].values) != 0) else 25 #new_min\n",
    "                #print(matrix[i][j],end = '')\n",
    "            start_lat = end_lat\n",
    "            end_lat = end_lat + n_sum_lat\n",
    "            #print('')\n",
    "            start_lon = end_lon\n",
    "            end_lon = end_lon + n_sum_lon\n",
    "        #print('*****************************************************************')\n",
    "        #X.append(matrix.flatten())\n",
    "        #img = Image.fromarray(matrix.astype('uint8'),'L')\n",
    "    return matrix.astype('uint8')"
   ]
  },
  {
   "cell_type": "code",
   "execution_count": 62,
   "metadata": {},
   "outputs": [],
   "source": [
    "out= []\n",
    "for num, serie in enumerate(y):\n",
    "    out.append(create_matrix(serie,first+num))\n",
    "pickle_y_out = open(\"y.pickle\",\"wb\")\n",
    "pickle.dump(out,pickle_y_out)\n",
    "pickle_y_out.close()"
   ]
  },
  {
   "cell_type": "code",
   "execution_count": 11,
   "metadata": {},
   "outputs": [],
   "source": [
    "X_pickle = open(\"X.pickle\",\"rb\")\n",
    "y_pickle = open('y.pickle','rb')\n",
    "X = pickle.load(X_pickle)\n",
    "y = pickle.load(y_pickle)"
   ]
  },
  {
   "cell_type": "code",
   "execution_count": 17,
   "metadata": {},
   "outputs": [],
   "source": [
    "create_images_output(y[:1])"
   ]
  },
  {
   "cell_type": "code",
   "execution_count": 18,
   "metadata": {},
   "outputs": [
    {
     "data": {
      "text/plain": [
       "3429"
      ]
     },
     "execution_count": 18,
     "metadata": {},
     "output_type": "execute_result"
    }
   ],
   "source": [
    "len(y)"
   ]
  },
  {
   "cell_type": "code",
   "execution_count": 23,
   "metadata": {},
   "outputs": [
    {
     "ename": "TypeError",
     "evalue": "'builtin_function_or_method' object is not subscriptable",
     "output_type": "error",
     "traceback": [
      "\u001b[0;31m---------------------------------------------------------------------------\u001b[0m",
      "\u001b[0;31mTypeError\u001b[0m                                 Traceback (most recent call last)",
      "\u001b[0;32m<ipython-input-23-276a15a92cf6>\u001b[0m in \u001b[0;36m<module>\u001b[0;34m\u001b[0m\n\u001b[0;32m----> 1\u001b[0;31m \u001b[0mlen\u001b[0m\u001b[0;34m[\u001b[0m\u001b[0;36m0\u001b[0m\u001b[0;34m]\u001b[0m\u001b[0;34m\u001b[0m\u001b[0;34m\u001b[0m\u001b[0m\n\u001b[0m",
      "\u001b[0;31mTypeError\u001b[0m: 'builtin_function_or_method' object is not subscriptable"
     ]
    }
   ],
   "source": [
    "len[0]"
   ]
  },
  {
   "cell_type": "code",
   "execution_count": null,
   "metadata": {},
   "outputs": [],
   "source": []
  }
 ],
 "metadata": {
  "kernelspec": {
   "display_name": "Python 3",
   "language": "python",
   "name": "python3"
  },
  "language_info": {
   "codemirror_mode": {
    "name": "ipython",
    "version": 3
   },
   "file_extension": ".py",
   "mimetype": "text/x-python",
   "name": "python",
   "nbconvert_exporter": "python",
   "pygments_lexer": "ipython3",
   "version": "3.7.3"
  }
 },
 "nbformat": 4,
 "nbformat_minor": 2
}
