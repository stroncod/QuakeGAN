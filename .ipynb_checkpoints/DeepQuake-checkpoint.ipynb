{
 "cells": [
  {
   "cell_type": "code",
   "execution_count": 1,
   "metadata": {},
   "outputs": [
    {
     "name": "stderr",
     "output_type": "stream",
     "text": [
      "Using TensorFlow backend.\n"
     ]
    }
   ],
   "source": [
    "import numpy as np\n",
    "import pandas as pd\n",
    "from pandas import read_csv\n",
    "from sklearn.preprocessing import LabelBinarizer\n",
    "from sklearn.preprocessing import MinMaxScaler\n",
    "from keras.models import Sequential\n",
    "from keras.layers import LSTM\n",
    "from keras.layers import Dense\n",
    "from keras.layers import RepeatVector\n",
    "from keras.layers import TimeDistributed\n",
    "from keras.utils import plot_model\n",
    "from keras.layers import Bidirectional"
   ]
  },
  {
   "cell_type": "code",
   "execution_count": 2,
   "metadata": {},
   "outputs": [],
   "source": [
    "dataset = read_csv('data_earthquake_2000-2017.csv',encoding='latin1', sep=';')"
   ]
  },
  {
   "cell_type": "code",
   "execution_count": 13,
   "metadata": {},
   "outputs": [
    {
     "data": {
      "text/html": [
       "<div>\n",
       "<style scoped>\n",
       "    .dataframe tbody tr th:only-of-type {\n",
       "        vertical-align: middle;\n",
       "    }\n",
       "\n",
       "    .dataframe tbody tr th {\n",
       "        vertical-align: top;\n",
       "    }\n",
       "\n",
       "    .dataframe thead th {\n",
       "        text-align: right;\n",
       "    }\n",
       "</style>\n",
       "<table border=\"1\" class=\"dataframe\">\n",
       "  <thead>\n",
       "    <tr style=\"text-align: right;\">\n",
       "      <th></th>\n",
       "      <th>Año</th>\n",
       "      <th>Mes</th>\n",
       "      <th>Día</th>\n",
       "      <th>Hora</th>\n",
       "      <th>Minuto</th>\n",
       "      <th>Segundo</th>\n",
       "      <th>Fecha</th>\n",
       "      <th>Latitud</th>\n",
       "      <th>Longitud</th>\n",
       "      <th>Prof.</th>\n",
       "      <th>Magn</th>\n",
       "      <th>Date</th>\n",
       "      <th>Horario</th>\n",
       "      <th>Dtime</th>\n",
       "      <th>time</th>\n",
       "      <th>diff</th>\n",
       "    </tr>\n",
       "  </thead>\n",
       "  <tbody>\n",
       "    <tr>\n",
       "      <th>0</th>\n",
       "      <td>2000</td>\n",
       "      <td>1</td>\n",
       "      <td>2</td>\n",
       "      <td>3</td>\n",
       "      <td>42</td>\n",
       "      <td>12.7</td>\n",
       "      <td>36527</td>\n",
       "      <td>-33.410</td>\n",
       "      <td>-70.880</td>\n",
       "      <td>81.9</td>\n",
       "      <td>2.5</td>\n",
       "      <td>36527</td>\n",
       "      <td>0.154314</td>\n",
       "      <td>36527.15431</td>\n",
       "      <td>1.154314</td>\n",
       "      <td>0.000000</td>\n",
       "    </tr>\n",
       "    <tr>\n",
       "      <th>1</th>\n",
       "      <td>2000</td>\n",
       "      <td>1</td>\n",
       "      <td>2</td>\n",
       "      <td>5</td>\n",
       "      <td>3</td>\n",
       "      <td>13.1</td>\n",
       "      <td>36527</td>\n",
       "      <td>-33.787</td>\n",
       "      <td>-71.339</td>\n",
       "      <td>45.8</td>\n",
       "      <td>3.7</td>\n",
       "      <td>36527</td>\n",
       "      <td>0.210568</td>\n",
       "      <td>36527.21057</td>\n",
       "      <td>1.210568</td>\n",
       "      <td>0.056255</td>\n",
       "    </tr>\n",
       "    <tr>\n",
       "      <th>2</th>\n",
       "      <td>2000</td>\n",
       "      <td>1</td>\n",
       "      <td>2</td>\n",
       "      <td>18</td>\n",
       "      <td>55</td>\n",
       "      <td>55.0</td>\n",
       "      <td>36527</td>\n",
       "      <td>-31.535</td>\n",
       "      <td>-71.318</td>\n",
       "      <td>35.7</td>\n",
       "      <td>3.8</td>\n",
       "      <td>36527</td>\n",
       "      <td>0.788831</td>\n",
       "      <td>36527.78883</td>\n",
       "      <td>1.788831</td>\n",
       "      <td>0.578263</td>\n",
       "    </tr>\n",
       "    <tr>\n",
       "      <th>3</th>\n",
       "      <td>2000</td>\n",
       "      <td>1</td>\n",
       "      <td>2</td>\n",
       "      <td>19</td>\n",
       "      <td>36</td>\n",
       "      <td>25.8</td>\n",
       "      <td>36527</td>\n",
       "      <td>-32.446</td>\n",
       "      <td>-70.923</td>\n",
       "      <td>95.2</td>\n",
       "      <td>2.7</td>\n",
       "      <td>36527</td>\n",
       "      <td>0.816965</td>\n",
       "      <td>36527.81697</td>\n",
       "      <td>1.816965</td>\n",
       "      <td>0.028134</td>\n",
       "    </tr>\n",
       "    <tr>\n",
       "      <th>4</th>\n",
       "      <td>2000</td>\n",
       "      <td>1</td>\n",
       "      <td>3</td>\n",
       "      <td>2</td>\n",
       "      <td>41</td>\n",
       "      <td>41.7</td>\n",
       "      <td>36528</td>\n",
       "      <td>-32.986</td>\n",
       "      <td>-71.348</td>\n",
       "      <td>41.8</td>\n",
       "      <td>3.6</td>\n",
       "      <td>36528</td>\n",
       "      <td>0.112288</td>\n",
       "      <td>36528.11229</td>\n",
       "      <td>2.112288</td>\n",
       "      <td>0.295323</td>\n",
       "    </tr>\n",
       "  </tbody>\n",
       "</table>\n",
       "</div>"
      ],
      "text/plain": [
       "    Año  Mes  Día  Hora  Minuto  Segundo  Fecha  Latitud  Longitud  Prof.  \\\n",
       "0  2000    1    2     3      42     12.7  36527  -33.410   -70.880   81.9   \n",
       "1  2000    1    2     5       3     13.1  36527  -33.787   -71.339   45.8   \n",
       "2  2000    1    2    18      55     55.0  36527  -31.535   -71.318   35.7   \n",
       "3  2000    1    2    19      36     25.8  36527  -32.446   -70.923   95.2   \n",
       "4  2000    1    3     2      41     41.7  36528  -32.986   -71.348   41.8   \n",
       "\n",
       "   Magn   Date   Horario        Dtime      time      diff  \n",
       "0   2.5  36527  0.154314  36527.15431  1.154314  0.000000  \n",
       "1   3.7  36527  0.210568  36527.21057  1.210568  0.056255  \n",
       "2   3.8  36527  0.788831  36527.78883  1.788831  0.578263  \n",
       "3   2.7  36527  0.816965  36527.81697  1.816965  0.028134  \n",
       "4   3.6  36528  0.112288  36528.11229  2.112288  0.295323  "
      ]
     },
     "execution_count": 13,
     "metadata": {},
     "output_type": "execute_result"
    }
   ],
   "source": [
    "dataset.head()"
   ]
  },
  {
   "cell_type": "code",
   "execution_count": 80,
   "metadata": {},
   "outputs": [
    {
     "data": {
      "text/plain": [
       "6533"
      ]
     },
     "execution_count": 80,
     "metadata": {},
     "output_type": "execute_result"
    }
   ],
   "source": [
    "len(pd.unique(dataset['Date']))\n"
   ]
  },
  {
   "cell_type": "code",
   "execution_count": 3,
   "metadata": {},
   "outputs": [],
   "source": [
    "def build_data(dataset):\n",
    "    freq = []\n",
    "    max_magn = 0\n",
    "    magns = []\n",
    "    dates = []\n",
    "\n",
    "    for i,(key,g) in enumerate(dataset.groupby(['Date'])):\n",
    "        count = 0\n",
    "        for magn, prof in zip(g['Magn'],g['Prof.']):\n",
    "            if magn >= 3.5 and prof<=60:\n",
    "                count+=1\n",
    "                if magn > max_magn:\n",
    "                    max_magn = magn\n",
    "                \n",
    "        if count != 0: \n",
    "            freq.append(count)\n",
    "            magns.append(max_magn)\n",
    "            dates.append(str(g['Día'].values)+str(g['Mes'].values)+str(g['Año'].values))\n",
    "        max_magn = 0\n",
    "    \n",
    "    if len(magns) != len(freq):\n",
    "        print('doh!')\n",
    "        \n",
    "    d = {'Freq':freq,'Max Magn':magns}    \n",
    "    return pd.DataFrame(d)\n",
    "\n",
    "\n",
    "def build_time_series(data,timestep,y_col):\n",
    "    \n",
    "    dim_0 = data.shape[0] - timestep\n",
    "    dim_1 = data.shape[1] ##only apply with more attributes data.shape[0]\n",
    "    x = np.zeros((dim_0, timestep,dim_1))\n",
    "    y = np.zeros((dim_0,))\n",
    "    for i in range(dim_0):\n",
    "        x[i] = data[i:timestep+i]\n",
    "        y[i] = data[timestep+i,y_col]\n",
    "    return x,y\n",
    "\n",
    "def scale(data,scaler):\n",
    "    data['Max Magn'] = cs.fit_transform(data[['Max Magn']])\n",
    "    return data"
   ]
  },
  {
   "cell_type": "code",
   "execution_count": 4,
   "metadata": {},
   "outputs": [
    {
     "name": "stdout",
     "output_type": "stream",
     "text": [
      "   Freq  Max Magn\n",
      "0     1       5.0\n",
      "1     1       5.8\n",
      "2     1       4.3\n",
      "3     1       4.6\n",
      "4     1       5.6\n",
      "   Freq  Max Magn\n",
      "0     1  0.319149\n",
      "1     1  0.489362\n",
      "2     1  0.170213\n",
      "3     1  0.234043\n",
      "4     1  0.446809\n"
     ]
    },
    {
     "data": {
      "text/plain": [
       "(389, 30, 2)"
      ]
     },
     "execution_count": 4,
     "metadata": {},
     "output_type": "execute_result"
    }
   ],
   "source": [
    "#iquique_lat= dataset[ dataset['Latitud'] >= -20.2132607 ]\n",
    "#iquique_log = dataset[dataset['Longitud'] <= -70.1502686]\n",
    "cs = MinMaxScaler()\n",
    "#iquique = pd.concat([iquique_lat,iquique_log]).drop_duplicates(keep=False)\n",
    "##print(iquique)\n",
    "iquique = build_data(dataset.query('Latitud >= -20.2132607 and Longitud  <= -70.1502686'))\n",
    "coquimbo = dataset.query('-20.2132607  <= Latitud >= -29.9533195  and -71.3394699 <= Longitud >= -70.1502686')\n",
    "concepcion = dataset.query('-36.8269882 <= Latitud and  Longitud >= -73.0497665 ')\n",
    "#coquimbo_lat = dataset[ dataset['Latitud'] >= -29.9533195 <=  -20.2132607]\n",
    "#coquimbo_log = dataset[dataset['Longitud'] <= -71.3394699 and >= -70.1502686 ]\n",
    "#coquimbo = pd.concat([coquimbo_lat,coquimbo_log]).drop_duplicates(keep=False)\n",
    "\n",
    "#y_iq = get_max_magn(iquique,20)\n",
    "\n",
    "#x_iq = generate_time_series(freq_iq,20)\n",
    "print(iquique.head())\n",
    "iquique = scale(iquique,cs)\n",
    "print(iquique.head())\n",
    "X,y = build_time_series(iquique.values,30,1)\n",
    "X.shape"
   ]
  },
  {
   "cell_type": "code",
   "execution_count": 12,
   "metadata": {},
   "outputs": [
    {
     "name": "stdout",
     "output_type": "stream",
     "text": [
      "216\n"
     ]
    }
   ],
   "source": [
    "lstm_model = Sequential()\n",
    "lstm_model.add(LSTM(100, batch_input_shape=(BATCH_SIZE, TIME_STEPS, x_t.shape[2]), dropout=0.0, recurrent_dropout=0.0, stateful=True,     kernel_initializer='random_uniform'))\n",
    "lstm_model.add(Dropout(0.5))\n",
    "lstm_model.add(Dense(20,activation='relu'))\n",
    "lstm_model.add(Dense(1,activation='sigmoid'))\n",
    "optimizer = optimizers.RMSprop(lr=lr)\n",
    "lstm_model.compile(loss='mean_squared_error', optimizer=optimizer)"
   ]
  },
  {
   "cell_type": "code",
   "execution_count": 68,
   "metadata": {},
   "outputs": [],
   "source": [
    "n = len(series)\n",
    "# define model\n",
    "model = Sequential()\n",
    "model.add(LSTM(100, activation='relu', input_shape=(n,1)))\n",
    "model.add(RepeatVector(n))\n",
    "model.add(LSTM(100, activation='relu', return_sequences=True))\n",
    "model.add(TimeDistributed(Dense(1)))\n",
    "model.compile(optimizer='adam', loss='mse')\n",
    "\n"
   ]
  },
  {
   "cell_type": "code",
   "execution_count": 65,
   "metadata": {},
   "outputs": [
    {
     "name": "stdout",
     "output_type": "stream",
     "text": [
      "\n",
      "You can find the C code in this temporary file: /var/folders/ds/0m5xqyr14q3dzywwn54tq2q80000gn/T/theano_compilation_error_v9dy14h5\n"
     ]
    },
    {
     "ename": "Exception",
     "evalue": "('The following error happened while compiling the node', forall_inplace,cpu,scan_fn}(Elemwise{maximum,no_inplace}.0, Subtensor{int64:int64:int8}.0, IncSubtensor{InplaceSet;:int64:}.0, IncSubtensor{InplaceSet;:int64:}.0, Elemwise{Maximum}[(0, 0)].0, Subtensor{::, int64:int64:}.0, InplaceDimShuffle{x,0}.0, Subtensor{::, int64:int64:}.0, Subtensor{::, :int64:}.0, InplaceDimShuffle{x,0}.0, Subtensor{::, :int64:}.0, Subtensor{::, int64:int64:}.0, InplaceDimShuffle{x,0}.0, Subtensor{::, int64:int64:}.0, Subtensor{::, int64::}.0, InplaceDimShuffle{x,0}.0, Subtensor{::, int64::}.0), '\\n', \"Compilation failed (return status=1): /Users/stroncod/.theano/compiledir_Darwin-16.7.0-x86_64-i386-64bit-i386-3.7.0-64/scan_perform/mod.cpp:11860:65: error: too many arguments to function call, expected 3, have 4.     return (*((__Pyx_PyCFunctionFast)meth)) (self, args, nargs, NULL);.            ~~~~~~~~~~~~~~~~~~~~~~~~~~~~~~~~                     ^~~~. /Applications/Xcode.app/Contents/Developer/Toolchains/XcodeDefault.xctoolchain/usr/lib/clang/9.0.0/include/stddef.h:100:18: note: expanded from macro 'NULL'. #    define NULL __null.                  ^~~~~~. /Users/stroncod/.theano/compiledir_Darwin-16.7.0-x86_64-i386-64bit-i386-3.7.0-64/scan_perform/mod.cpp:12617:21: error: no member named 'exc_type' in '_ts'.     *type = tstate->exc_type;.             ~~~~~~  ^. /Users/stroncod/.theano/compiledir_Darwin-16.7.0-x86_64-i386-64bit-i386-3.7.0-64/scan_perform/mod.cpp:12618:22: error: no member named 'exc_value' in '_ts'; did you mean 'curexc_value'?.     *value = tstate->exc_value;.                      ^~~~~~~~~.                      curexc_value. /usr/local/Cellar/python/3.7.0/Frameworks/Python.framework/Versions/3.7/include/python3.7m/pystate.h:237:15: note: 'curexc_value' declared here.     PyObject *curexc_value;.               ^. /Users/stroncod/.theano/compiledir_Darwin-16.7.0-x86_64-i386-64bit-i386-3.7.0-64/scan_perform/mod.cpp:12619:19: error: no member named 'exc_traceback' in '_ts'; did you mean 'curexc_traceback'?.     *tb = tstate->exc_traceback;.                   ^~~~~~~~~~~~~.                   curexc_traceback. /usr/local/Cellar/python/3.7.0/Frameworks/Python.framework/Versions/3.7/include/python3.7m/pystate.h:238:15: note: 'curexc_traceback' declared here.     PyObject *curexc_traceback;.               ^. /Users/stroncod/.theano/compiledir_Darwin-16.7.0-x86_64-i386-64bit-i386-3.7.0-64/scan_perform/mod.cpp:12626:24: error: no member named 'exc_type' in '_ts'.     tmp_type = tstate->exc_type;.                ~~~~~~  ^. /Users/stroncod/.theano/compiledir_Darwin-16.7.0-x86_64-i386-64bit-i386-3.7.0-64/scan_perform/mod.cpp:12627:25: error: no member named 'exc_value' in '_ts'; did you mean 'curexc_value'?.     tmp_value = tstate->exc_value;.                         ^~~~~~~~~.                         curexc_value. /usr/local/Cellar/python/3.7.0/Frameworks/Python.framework/Versions/3.7/include/python3.7m/pystate.h:237:15: note: 'curexc_value' declared here.     PyObject *curexc_value;.               ^. /Users/stroncod/.theano/compiledir_Darwin-16.7.0-x86_64-i386-64bit-i386-3.7.0-64/scan_perform/mod.cpp:12628:22: error: no member named 'exc_traceback' in '_ts'; did you mean 'curexc_traceback'?.     tmp_tb = tstate->exc_traceback;.                      ^~~~~~~~~~~~~.                      curexc_traceback. /usr/local/Cellar/python/3.7.0/Frameworks/Python.framework/Versions/3.7/include/python3.7m/pystate.h:238:15: note: 'curexc_traceback' declared here.     PyObject *curexc_traceback;.               ^. /Users/stroncod/.theano/compiledir_Darwin-16.7.0-x86_64-i386-64bit-i386-3.7.0-64/scan_perform/mod.cpp:12629:13: error: no member named 'exc_type' in '_ts'.     tstate->exc_type = type;.     ~~~~~~  ^. /Users/stroncod/.theano/compiledir_Darwin-16.7.0-x86_64-i386-64bit-i386-3.7.0-64/scan_perform/mod.cpp:12630:13: error: no member named 'exc_value' in '_ts'; did you mean 'curexc_value'?.     tstate->exc_value = value;.             ^~~~~~~~~.             curexc_value. /usr/local/Cellar/python/3.7.0/Frameworks/Python.framework/Versions/3.7/include/python3.7m/pystate.h:237:15: note: 'curexc_value' declared here.     PyObject *curexc_value;.               ^. /Users/stroncod/.theano/compiledir_Darwin-16.7.0-x86_64-i386-64bit-i386-3.7.0-64/scan_perform/mod.cpp:12631:13: error: no member named 'exc_traceback' in '_ts'; did you mean 'curexc_traceback'?.     tstate->exc_traceback = tb;.             ^~~~~~~~~~~~~.             curexc_traceback. /usr/local/Cellar/python/3.7.0/Frameworks/Python.framework/Versions/3.7/include/python3.7m/pystate.h:238:15: note: 'curexc_traceback' declared here.     PyObject *curexc_traceback;.               ^. /Users/stroncod/.theano/compiledir_Darwin-16.7.0-x86_64-i386-64bit-i386-3.7.0-64/scan_perform/mod.cpp:12686:24: error: no member named 'exc_type' in '_ts'.     tmp_type = tstate->exc_type;.                ~~~~~~  ^. /Users/stroncod/.theano/compiledir_Darwin-16.7.0-x86_64-i386-64bit-i386-3.7.0-64/scan_perform/mod.cpp:12687:25: error: no member named 'exc_value' in '_ts'; did you mean 'curexc_value'?.     tmp_value = tstate->exc_value;.                         ^~~~~~~~~.                         curexc_value. /usr/local/Cellar/python/3.7.0/Frameworks/Python.framework/Versions/3.7/include/python3.7m/pystate.h:237:15: note: 'curexc_value' declared here.     PyObject *curexc_value;.               ^. /Users/stroncod/.theano/compiledir_Darwin-16.7.0-x86_64-i386-64bit-i386-3.7.0-64/scan_perform/mod.cpp:12688:22: error: no member named 'exc_traceback' in '_ts'; did you mean 'curexc_traceback'?.     tmp_tb = tstate->exc_traceback;.                      ^~~~~~~~~~~~~.                      curexc_traceback. /usr/local/Cellar/python/3.7.0/Frameworks/Python.framework/Versions/3.7/include/python3.7m/pystate.h:238:15: note: 'curexc_traceback' declared here.     PyObject *curexc_traceback;.               ^. /Users/stroncod/.theano/compiledir_Darwin-16.7.0-x86_64-i386-64bit-i386-3.7.0-64/scan_perform/mod.cpp:12689:13: error: no member named 'exc_type' in '_ts'.     tstate->exc_type = local_type;.     ~~~~~~  ^. /Users/stroncod/.theano/compiledir_Darwin-16.7.0-x86_64-i386-64bit-i386-3.7.0-64/scan_perform/mod.cpp:12690:13: error: no member named 'exc_value' in '_ts'; did you mean 'curexc_value'?.     tstate->exc_value = local_value;.             ^~~~~~~~~.             curexc_value. /usr/local/Cellar/python/3.7.0/Frameworks/Python.framework/Versions/3.7/include/python3.7m/pystate.h:237:15: note: 'curexc_value' declared here.     PyObject *curexc_value;.               ^. /Users/stroncod/.theano/compiledir_Darwin-16.7.0-x86_64-i386-64bit-i386-3.7.0-64/scan_perform/mod.cpp:12691:13: error: no member named 'exc_traceback' in '_ts'; did you mean 'curexc_traceback'?.     tstate->exc_traceback = local_tb;.             ^~~~~~~~~~~~~.             curexc_traceback. /usr/local/Cellar/python/3.7.0/Frameworks/Python.framework/Versions/3.7/include/python3.7m/pystate.h:238:15: note: 'curexc_traceback' declared here.     PyObject *curexc_traceback;.               ^. 16 errors generated.. \")",
     "output_type": "error",
     "traceback": [
      "\u001b[0;31m---------------------------------------------------------------------------\u001b[0m",
      "\u001b[0;31mImportError\u001b[0m                               Traceback (most recent call last)",
      "\u001b[0;32m/usr/local/lib/python3.7/site-packages/theano/scan_module/scan_perform_ext.py\u001b[0m in \u001b[0;36m<module>\u001b[0;34m()\u001b[0m\n\u001b[1;32m     47\u001b[0m     \u001b[0;32mif\u001b[0m \u001b[0mversion\u001b[0m \u001b[0;34m!=\u001b[0m \u001b[0mgetattr\u001b[0m\u001b[0;34m(\u001b[0m\u001b[0mscan_perform\u001b[0m\u001b[0;34m,\u001b[0m \u001b[0;34m'_version'\u001b[0m\u001b[0;34m,\u001b[0m \u001b[0;32mNone\u001b[0m\u001b[0;34m)\u001b[0m\u001b[0;34m:\u001b[0m\u001b[0;34m\u001b[0m\u001b[0m\n\u001b[0;32m---> 48\u001b[0;31m         \u001b[0;32mraise\u001b[0m \u001b[0mImportError\u001b[0m\u001b[0;34m(\u001b[0m\u001b[0;34m)\u001b[0m\u001b[0;34m\u001b[0m\u001b[0m\n\u001b[0m\u001b[1;32m     49\u001b[0m \u001b[0;32mexcept\u001b[0m \u001b[0mImportError\u001b[0m\u001b[0;34m:\u001b[0m\u001b[0;34m\u001b[0m\u001b[0m\n",
      "\u001b[0;31mImportError\u001b[0m: ",
      "\nDuring handling of the above exception, another exception occurred:\n",
      "\u001b[0;31mImportError\u001b[0m                               Traceback (most recent call last)",
      "\u001b[0;32m/usr/local/lib/python3.7/site-packages/theano/scan_module/scan_perform_ext.py\u001b[0m in \u001b[0;36m<module>\u001b[0;34m()\u001b[0m\n\u001b[1;32m     62\u001b[0m             \u001b[0;32mif\u001b[0m \u001b[0mversion\u001b[0m \u001b[0;34m!=\u001b[0m \u001b[0mgetattr\u001b[0m\u001b[0;34m(\u001b[0m\u001b[0mscan_perform\u001b[0m\u001b[0;34m,\u001b[0m \u001b[0;34m'_version'\u001b[0m\u001b[0;34m,\u001b[0m \u001b[0;32mNone\u001b[0m\u001b[0;34m)\u001b[0m\u001b[0;34m:\u001b[0m\u001b[0;34m\u001b[0m\u001b[0m\n\u001b[0;32m---> 63\u001b[0;31m                 \u001b[0;32mraise\u001b[0m \u001b[0mImportError\u001b[0m\u001b[0;34m(\u001b[0m\u001b[0;34m)\u001b[0m\u001b[0;34m\u001b[0m\u001b[0m\n\u001b[0m\u001b[1;32m     64\u001b[0m         \u001b[0;32mexcept\u001b[0m \u001b[0mImportError\u001b[0m\u001b[0;34m:\u001b[0m\u001b[0;34m\u001b[0m\u001b[0m\n",
      "\u001b[0;31mImportError\u001b[0m: ",
      "\nDuring handling of the above exception, another exception occurred:\n",
      "\u001b[0;31mException\u001b[0m                                 Traceback (most recent call last)",
      "\u001b[0;32m<ipython-input-65-36285f9da553>\u001b[0m in \u001b[0;36m<module>\u001b[0;34m()\u001b[0m\n\u001b[0;32m----> 1\u001b[0;31m \u001b[0mmodel\u001b[0m\u001b[0;34m.\u001b[0m\u001b[0mfit\u001b[0m\u001b[0;34m(\u001b[0m\u001b[0mseries\u001b[0m\u001b[0;34m,\u001b[0m \u001b[0mseries\u001b[0m\u001b[0;34m,\u001b[0m \u001b[0mepochs\u001b[0m\u001b[0;34m=\u001b[0m\u001b[0;36m300\u001b[0m\u001b[0;34m,\u001b[0m \u001b[0mverbose\u001b[0m\u001b[0;34m=\u001b[0m\u001b[0;36m0\u001b[0m\u001b[0;34m)\u001b[0m\u001b[0;34m\u001b[0m\u001b[0m\n\u001b[0m\u001b[1;32m      2\u001b[0m \u001b[0mplot_model\u001b[0m\u001b[0;34m(\u001b[0m\u001b[0mmodel\u001b[0m\u001b[0;34m,\u001b[0m \u001b[0mshow_shapes\u001b[0m\u001b[0;34m=\u001b[0m\u001b[0;32mTrue\u001b[0m\u001b[0;34m,\u001b[0m \u001b[0mto_file\u001b[0m\u001b[0;34m=\u001b[0m\u001b[0;34m'reconstruct_lstm_autoencoder.png'\u001b[0m\u001b[0;34m)\u001b[0m\u001b[0;34m\u001b[0m\u001b[0m\n\u001b[1;32m      3\u001b[0m \u001b[0myhat\u001b[0m \u001b[0;34m=\u001b[0m \u001b[0mmodel\u001b[0m\u001b[0;34m.\u001b[0m\u001b[0mpredict\u001b[0m\u001b[0;34m(\u001b[0m\u001b[0mseries\u001b[0m\u001b[0;34m,\u001b[0m \u001b[0mverbose\u001b[0m\u001b[0;34m=\u001b[0m\u001b[0;36m0\u001b[0m\u001b[0;34m)\u001b[0m\u001b[0;34m\u001b[0m\u001b[0m\n\u001b[1;32m      4\u001b[0m \u001b[0mprint\u001b[0m\u001b[0;34m(\u001b[0m\u001b[0myhat\u001b[0m\u001b[0;34m[\u001b[0m\u001b[0;36m0\u001b[0m\u001b[0;34m,\u001b[0m\u001b[0;34m:\u001b[0m\u001b[0;34m,\u001b[0m\u001b[0;36m0\u001b[0m\u001b[0;34m]\u001b[0m\u001b[0;34m)\u001b[0m\u001b[0;34m\u001b[0m\u001b[0m\n",
      "\u001b[0;32m/usr/local/lib/python3.7/site-packages/keras/engine/training.py\u001b[0m in \u001b[0;36mfit\u001b[0;34m(self, x, y, batch_size, epochs, verbose, callbacks, validation_split, validation_data, shuffle, class_weight, sample_weight, initial_epoch, steps_per_epoch, validation_steps, **kwargs)\u001b[0m\n\u001b[1;32m   1006\u001b[0m         \u001b[0;32melse\u001b[0m\u001b[0;34m:\u001b[0m\u001b[0;34m\u001b[0m\u001b[0m\n\u001b[1;32m   1007\u001b[0m             \u001b[0mins\u001b[0m \u001b[0;34m=\u001b[0m \u001b[0mx\u001b[0m \u001b[0;34m+\u001b[0m \u001b[0my\u001b[0m \u001b[0;34m+\u001b[0m \u001b[0msample_weights\u001b[0m\u001b[0;34m\u001b[0m\u001b[0m\n\u001b[0;32m-> 1008\u001b[0;31m         \u001b[0mself\u001b[0m\u001b[0;34m.\u001b[0m\u001b[0m_make_train_function\u001b[0m\u001b[0;34m(\u001b[0m\u001b[0;34m)\u001b[0m\u001b[0;34m\u001b[0m\u001b[0m\n\u001b[0m\u001b[1;32m   1009\u001b[0m         \u001b[0mf\u001b[0m \u001b[0;34m=\u001b[0m \u001b[0mself\u001b[0m\u001b[0;34m.\u001b[0m\u001b[0mtrain_function\u001b[0m\u001b[0;34m\u001b[0m\u001b[0m\n\u001b[1;32m   1010\u001b[0m \u001b[0;34m\u001b[0m\u001b[0m\n",
      "\u001b[0;32m/usr/local/lib/python3.7/site-packages/keras/engine/training.py\u001b[0m in \u001b[0;36m_make_train_function\u001b[0;34m(self)\u001b[0m\n\u001b[1;32m    506\u001b[0m                     \u001b[0mupdates\u001b[0m\u001b[0;34m=\u001b[0m\u001b[0mupdates\u001b[0m\u001b[0;34m,\u001b[0m\u001b[0;34m\u001b[0m\u001b[0m\n\u001b[1;32m    507\u001b[0m                     \u001b[0mname\u001b[0m\u001b[0;34m=\u001b[0m\u001b[0;34m'train_function'\u001b[0m\u001b[0;34m,\u001b[0m\u001b[0;34m\u001b[0m\u001b[0m\n\u001b[0;32m--> 508\u001b[0;31m                     **self._function_kwargs)\n\u001b[0m\u001b[1;32m    509\u001b[0m \u001b[0;34m\u001b[0m\u001b[0m\n\u001b[1;32m    510\u001b[0m     \u001b[0;32mdef\u001b[0m \u001b[0m_make_test_function\u001b[0m\u001b[0;34m(\u001b[0m\u001b[0mself\u001b[0m\u001b[0;34m)\u001b[0m\u001b[0;34m:\u001b[0m\u001b[0;34m\u001b[0m\u001b[0m\n",
      "\u001b[0;32m/usr/local/lib/python3.7/site-packages/keras/backend/theano_backend.py\u001b[0m in \u001b[0;36mfunction\u001b[0;34m(inputs, outputs, updates, **kwargs)\u001b[0m\n\u001b[1;32m   1280\u001b[0m                 \u001b[0mmsg\u001b[0m \u001b[0;34m=\u001b[0m \u001b[0;34m'Invalid argument \"%s\" passed to K.function with Theano backend'\u001b[0m \u001b[0;34m%\u001b[0m \u001b[0mkey\u001b[0m\u001b[0;34m\u001b[0m\u001b[0m\n\u001b[1;32m   1281\u001b[0m                 \u001b[0;32mraise\u001b[0m \u001b[0mValueError\u001b[0m\u001b[0;34m(\u001b[0m\u001b[0mmsg\u001b[0m\u001b[0;34m)\u001b[0m\u001b[0;34m\u001b[0m\u001b[0m\n\u001b[0;32m-> 1282\u001b[0;31m     \u001b[0;32mreturn\u001b[0m \u001b[0mFunction\u001b[0m\u001b[0;34m(\u001b[0m\u001b[0minputs\u001b[0m\u001b[0;34m,\u001b[0m \u001b[0moutputs\u001b[0m\u001b[0;34m,\u001b[0m \u001b[0mupdates\u001b[0m\u001b[0;34m=\u001b[0m\u001b[0mupdates\u001b[0m\u001b[0;34m,\u001b[0m \u001b[0;34m**\u001b[0m\u001b[0mkwargs\u001b[0m\u001b[0;34m)\u001b[0m\u001b[0;34m\u001b[0m\u001b[0m\n\u001b[0m\u001b[1;32m   1283\u001b[0m \u001b[0;34m\u001b[0m\u001b[0m\n\u001b[1;32m   1284\u001b[0m \u001b[0;34m\u001b[0m\u001b[0m\n",
      "\u001b[0;32m/usr/local/lib/python3.7/site-packages/keras/backend/theano_backend.py\u001b[0m in \u001b[0;36m__init__\u001b[0;34m(self, inputs, outputs, updates, name, **kwargs)\u001b[0m\n\u001b[1;32m   1266\u001b[0m                                         \u001b[0mon_unused_input\u001b[0m\u001b[0;34m=\u001b[0m\u001b[0;34m'ignore'\u001b[0m\u001b[0;34m,\u001b[0m\u001b[0;34m\u001b[0m\u001b[0m\n\u001b[1;32m   1267\u001b[0m                                         \u001b[0mname\u001b[0m\u001b[0;34m=\u001b[0m\u001b[0mname\u001b[0m\u001b[0;34m,\u001b[0m\u001b[0;34m\u001b[0m\u001b[0m\n\u001b[0;32m-> 1268\u001b[0;31m                                         **kwargs)\n\u001b[0m\u001b[1;32m   1269\u001b[0m         \u001b[0mself\u001b[0m\u001b[0;34m.\u001b[0m\u001b[0mname\u001b[0m \u001b[0;34m=\u001b[0m \u001b[0mname\u001b[0m\u001b[0;34m\u001b[0m\u001b[0m\n\u001b[1;32m   1270\u001b[0m \u001b[0;34m\u001b[0m\u001b[0m\n",
      "\u001b[0;32m/usr/local/lib/python3.7/site-packages/theano/compile/function.py\u001b[0m in \u001b[0;36mfunction\u001b[0;34m(inputs, outputs, mode, updates, givens, no_default_updates, accept_inplace, name, rebuild_strict, allow_input_downcast, profile, on_unused_input)\u001b[0m\n\u001b[1;32m    315\u001b[0m                    \u001b[0mon_unused_input\u001b[0m\u001b[0;34m=\u001b[0m\u001b[0mon_unused_input\u001b[0m\u001b[0;34m,\u001b[0m\u001b[0;34m\u001b[0m\u001b[0m\n\u001b[1;32m    316\u001b[0m                    \u001b[0mprofile\u001b[0m\u001b[0;34m=\u001b[0m\u001b[0mprofile\u001b[0m\u001b[0;34m,\u001b[0m\u001b[0;34m\u001b[0m\u001b[0m\n\u001b[0;32m--> 317\u001b[0;31m                    output_keys=output_keys)\n\u001b[0m\u001b[1;32m    318\u001b[0m     \u001b[0;32mreturn\u001b[0m \u001b[0mfn\u001b[0m\u001b[0;34m\u001b[0m\u001b[0m\n",
      "\u001b[0;32m/usr/local/lib/python3.7/site-packages/theano/compile/pfunc.py\u001b[0m in \u001b[0;36mpfunc\u001b[0;34m(params, outputs, mode, updates, givens, no_default_updates, accept_inplace, name, rebuild_strict, allow_input_downcast, profile, on_unused_input, output_keys)\u001b[0m\n\u001b[1;32m    484\u001b[0m                          \u001b[0maccept_inplace\u001b[0m\u001b[0;34m=\u001b[0m\u001b[0maccept_inplace\u001b[0m\u001b[0;34m,\u001b[0m \u001b[0mname\u001b[0m\u001b[0;34m=\u001b[0m\u001b[0mname\u001b[0m\u001b[0;34m,\u001b[0m\u001b[0;34m\u001b[0m\u001b[0m\n\u001b[1;32m    485\u001b[0m                          \u001b[0mprofile\u001b[0m\u001b[0;34m=\u001b[0m\u001b[0mprofile\u001b[0m\u001b[0;34m,\u001b[0m \u001b[0mon_unused_input\u001b[0m\u001b[0;34m=\u001b[0m\u001b[0mon_unused_input\u001b[0m\u001b[0;34m,\u001b[0m\u001b[0;34m\u001b[0m\u001b[0m\n\u001b[0;32m--> 486\u001b[0;31m                          output_keys=output_keys)\n\u001b[0m\u001b[1;32m    487\u001b[0m \u001b[0;34m\u001b[0m\u001b[0m\n\u001b[1;32m    488\u001b[0m \u001b[0;34m\u001b[0m\u001b[0m\n",
      "\u001b[0;32m/usr/local/lib/python3.7/site-packages/theano/compile/function_module.py\u001b[0m in \u001b[0;36morig_function\u001b[0;34m(inputs, outputs, mode, accept_inplace, name, profile, on_unused_input, output_keys)\u001b[0m\n\u001b[1;32m   1839\u001b[0m                   name=name)\n\u001b[1;32m   1840\u001b[0m         \u001b[0;32mwith\u001b[0m \u001b[0mtheano\u001b[0m\u001b[0;34m.\u001b[0m\u001b[0mchange_flags\u001b[0m\u001b[0;34m(\u001b[0m\u001b[0mcompute_test_value\u001b[0m\u001b[0;34m=\u001b[0m\u001b[0;34m\"off\"\u001b[0m\u001b[0;34m)\u001b[0m\u001b[0;34m:\u001b[0m\u001b[0;34m\u001b[0m\u001b[0m\n\u001b[0;32m-> 1841\u001b[0;31m             \u001b[0mfn\u001b[0m \u001b[0;34m=\u001b[0m \u001b[0mm\u001b[0m\u001b[0;34m.\u001b[0m\u001b[0mcreate\u001b[0m\u001b[0;34m(\u001b[0m\u001b[0mdefaults\u001b[0m\u001b[0;34m)\u001b[0m\u001b[0;34m\u001b[0m\u001b[0m\n\u001b[0m\u001b[1;32m   1842\u001b[0m     \u001b[0;32mfinally\u001b[0m\u001b[0;34m:\u001b[0m\u001b[0;34m\u001b[0m\u001b[0m\n\u001b[1;32m   1843\u001b[0m         \u001b[0mt2\u001b[0m \u001b[0;34m=\u001b[0m \u001b[0mtime\u001b[0m\u001b[0;34m.\u001b[0m\u001b[0mtime\u001b[0m\u001b[0;34m(\u001b[0m\u001b[0;34m)\u001b[0m\u001b[0;34m\u001b[0m\u001b[0m\n",
      "\u001b[0;32m/usr/local/lib/python3.7/site-packages/theano/compile/function_module.py\u001b[0m in \u001b[0;36mcreate\u001b[0;34m(self, input_storage, trustme, storage_map)\u001b[0m\n\u001b[1;32m   1713\u001b[0m             \u001b[0mtheano\u001b[0m\u001b[0;34m.\u001b[0m\u001b[0mconfig\u001b[0m\u001b[0;34m.\u001b[0m\u001b[0mtraceback\u001b[0m\u001b[0;34m.\u001b[0m\u001b[0mlimit\u001b[0m \u001b[0;34m=\u001b[0m \u001b[0mtheano\u001b[0m\u001b[0;34m.\u001b[0m\u001b[0mconfig\u001b[0m\u001b[0;34m.\u001b[0m\u001b[0mtraceback\u001b[0m\u001b[0;34m.\u001b[0m\u001b[0mcompile_limit\u001b[0m\u001b[0;34m\u001b[0m\u001b[0m\n\u001b[1;32m   1714\u001b[0m             _fn, _i, _o = self.linker.make_thunk(\n\u001b[0;32m-> 1715\u001b[0;31m                 input_storage=input_storage_lists, storage_map=storage_map)\n\u001b[0m\u001b[1;32m   1716\u001b[0m         \u001b[0;32mfinally\u001b[0m\u001b[0;34m:\u001b[0m\u001b[0;34m\u001b[0m\u001b[0m\n\u001b[1;32m   1717\u001b[0m             \u001b[0mtheano\u001b[0m\u001b[0;34m.\u001b[0m\u001b[0mconfig\u001b[0m\u001b[0;34m.\u001b[0m\u001b[0mtraceback\u001b[0m\u001b[0;34m.\u001b[0m\u001b[0mlimit\u001b[0m \u001b[0;34m=\u001b[0m \u001b[0mlimit_orig\u001b[0m\u001b[0;34m\u001b[0m\u001b[0m\n",
      "\u001b[0;32m/usr/local/lib/python3.7/site-packages/theano/gof/link.py\u001b[0m in \u001b[0;36mmake_thunk\u001b[0;34m(self, input_storage, output_storage, storage_map)\u001b[0m\n\u001b[1;32m    697\u001b[0m         return self.make_all(input_storage=input_storage,\n\u001b[1;32m    698\u001b[0m                              \u001b[0moutput_storage\u001b[0m\u001b[0;34m=\u001b[0m\u001b[0moutput_storage\u001b[0m\u001b[0;34m,\u001b[0m\u001b[0;34m\u001b[0m\u001b[0m\n\u001b[0;32m--> 699\u001b[0;31m                              storage_map=storage_map)[:3]\n\u001b[0m\u001b[1;32m    700\u001b[0m \u001b[0;34m\u001b[0m\u001b[0m\n\u001b[1;32m    701\u001b[0m     \u001b[0;32mdef\u001b[0m \u001b[0mmake_all\u001b[0m\u001b[0;34m(\u001b[0m\u001b[0mself\u001b[0m\u001b[0;34m,\u001b[0m \u001b[0minput_storage\u001b[0m\u001b[0;34m,\u001b[0m \u001b[0moutput_storage\u001b[0m\u001b[0;34m)\u001b[0m\u001b[0;34m:\u001b[0m\u001b[0;34m\u001b[0m\u001b[0m\n",
      "\u001b[0;32m/usr/local/lib/python3.7/site-packages/theano/gof/vm.py\u001b[0m in \u001b[0;36mmake_all\u001b[0;34m(self, profiler, input_storage, output_storage, storage_map)\u001b[0m\n\u001b[1;32m   1089\u001b[0m                                                  \u001b[0mcompute_map\u001b[0m\u001b[0;34m,\u001b[0m\u001b[0;34m\u001b[0m\u001b[0m\n\u001b[1;32m   1090\u001b[0m                                                  \u001b[0;34m[\u001b[0m\u001b[0;34m]\u001b[0m\u001b[0;34m,\u001b[0m\u001b[0;34m\u001b[0m\u001b[0m\n\u001b[0;32m-> 1091\u001b[0;31m                                                  impl=impl))\n\u001b[0m\u001b[1;32m   1092\u001b[0m                 \u001b[0mlinker_make_thunk_time\u001b[0m\u001b[0;34m[\u001b[0m\u001b[0mnode\u001b[0m\u001b[0;34m]\u001b[0m \u001b[0;34m=\u001b[0m \u001b[0mtime\u001b[0m\u001b[0;34m.\u001b[0m\u001b[0mtime\u001b[0m\u001b[0;34m(\u001b[0m\u001b[0;34m)\u001b[0m \u001b[0;34m-\u001b[0m \u001b[0mthunk_start\u001b[0m\u001b[0;34m\u001b[0m\u001b[0m\n\u001b[1;32m   1093\u001b[0m                 \u001b[0;32mif\u001b[0m \u001b[0;32mnot\u001b[0m \u001b[0mhasattr\u001b[0m\u001b[0;34m(\u001b[0m\u001b[0mthunks\u001b[0m\u001b[0;34m[\u001b[0m\u001b[0;34m-\u001b[0m\u001b[0;36m1\u001b[0m\u001b[0;34m]\u001b[0m\u001b[0;34m,\u001b[0m \u001b[0;34m'lazy'\u001b[0m\u001b[0;34m)\u001b[0m\u001b[0;34m:\u001b[0m\u001b[0;34m\u001b[0m\u001b[0m\n",
      "\u001b[0;32m/usr/local/lib/python3.7/site-packages/theano/scan_module/scan_op.py\u001b[0m in \u001b[0;36mmake_thunk\u001b[0;34m(self, node, storage_map, compute_map, no_recycling, impl)\u001b[0m\n\u001b[1;32m    923\u001b[0m             cython_destroy_map = np.asarray(cython_destroy_map,\n\u001b[1;32m    924\u001b[0m                                             dtype='int32')\n\u001b[0;32m--> 925\u001b[0;31m             \u001b[0;32mfrom\u001b[0m \u001b[0;34m.\u001b[0m \u001b[0;32mimport\u001b[0m \u001b[0mscan_perform_ext\u001b[0m\u001b[0;34m\u001b[0m\u001b[0m\n\u001b[0m\u001b[1;32m    926\u001b[0m \u001b[0;34m\u001b[0m\u001b[0m\n\u001b[1;32m    927\u001b[0m             \u001b[0;32mdef\u001b[0m \u001b[0mp\u001b[0m\u001b[0;34m(\u001b[0m\u001b[0mnode\u001b[0m\u001b[0;34m,\u001b[0m \u001b[0margs\u001b[0m\u001b[0;34m,\u001b[0m \u001b[0mouts\u001b[0m\u001b[0;34m)\u001b[0m\u001b[0;34m:\u001b[0m\u001b[0;34m\u001b[0m\u001b[0m\n",
      "\u001b[0;32m/usr/local/lib/python3.7/site-packages/theano/scan_module/scan_perform_ext.py\u001b[0m in \u001b[0;36m<module>\u001b[0;34m()\u001b[0m\n\u001b[1;32m    120\u001b[0m             cmodule.GCC_compiler.compile_str(dirname, code, location=loc,\n\u001b[1;32m    121\u001b[0m                                              \u001b[0mpreargs\u001b[0m\u001b[0;34m=\u001b[0m\u001b[0mpreargs\u001b[0m\u001b[0;34m,\u001b[0m\u001b[0;34m\u001b[0m\u001b[0m\n\u001b[0;32m--> 122\u001b[0;31m                                              hide_symbols=False)\n\u001b[0m\u001b[1;32m    123\u001b[0m             \u001b[0;31m# Save version into the __init__.py file.\u001b[0m\u001b[0;34m\u001b[0m\u001b[0;34m\u001b[0m\u001b[0m\n\u001b[1;32m    124\u001b[0m             \u001b[0minit_py\u001b[0m \u001b[0;34m=\u001b[0m \u001b[0mos\u001b[0m\u001b[0;34m.\u001b[0m\u001b[0mpath\u001b[0m\u001b[0;34m.\u001b[0m\u001b[0mjoin\u001b[0m\u001b[0;34m(\u001b[0m\u001b[0mloc\u001b[0m\u001b[0;34m,\u001b[0m \u001b[0;34m'__init__.py'\u001b[0m\u001b[0;34m)\u001b[0m\u001b[0;34m\u001b[0m\u001b[0m\n",
      "\u001b[0;32m/usr/local/lib/python3.7/site-packages/theano/gof/cmodule.py\u001b[0m in \u001b[0;36mcompile_str\u001b[0;34m(module_name, src_code, location, include_dirs, lib_dirs, libs, preargs, py_module, hide_symbols)\u001b[0m\n\u001b[1;32m   2386\u001b[0m             \u001b[0;31m# difficult to read.\u001b[0m\u001b[0;34m\u001b[0m\u001b[0;34m\u001b[0m\u001b[0m\n\u001b[1;32m   2387\u001b[0m             raise Exception('Compilation failed (return status=%s): %s' %\n\u001b[0;32m-> 2388\u001b[0;31m                             (status, compile_stderr.replace('\\n', '. ')))\n\u001b[0m\u001b[1;32m   2389\u001b[0m         \u001b[0;32melif\u001b[0m \u001b[0mconfig\u001b[0m\u001b[0;34m.\u001b[0m\u001b[0mcmodule\u001b[0m\u001b[0;34m.\u001b[0m\u001b[0mcompilation_warning\u001b[0m \u001b[0;32mand\u001b[0m \u001b[0mcompile_stderr\u001b[0m\u001b[0;34m:\u001b[0m\u001b[0;34m\u001b[0m\u001b[0m\n\u001b[1;32m   2390\u001b[0m             \u001b[0;31m# Print errors just below the command line.\u001b[0m\u001b[0;34m\u001b[0m\u001b[0;34m\u001b[0m\u001b[0m\n",
      "\u001b[0;31mException\u001b[0m: ('The following error happened while compiling the node', forall_inplace,cpu,scan_fn}(Elemwise{maximum,no_inplace}.0, Subtensor{int64:int64:int8}.0, IncSubtensor{InplaceSet;:int64:}.0, IncSubtensor{InplaceSet;:int64:}.0, Elemwise{Maximum}[(0, 0)].0, Subtensor{::, int64:int64:}.0, InplaceDimShuffle{x,0}.0, Subtensor{::, int64:int64:}.0, Subtensor{::, :int64:}.0, InplaceDimShuffle{x,0}.0, Subtensor{::, :int64:}.0, Subtensor{::, int64:int64:}.0, InplaceDimShuffle{x,0}.0, Subtensor{::, int64:int64:}.0, Subtensor{::, int64::}.0, InplaceDimShuffle{x,0}.0, Subtensor{::, int64::}.0), '\\n', \"Compilation failed (return status=1): /Users/stroncod/.theano/compiledir_Darwin-16.7.0-x86_64-i386-64bit-i386-3.7.0-64/scan_perform/mod.cpp:11860:65: error: too many arguments to function call, expected 3, have 4.     return (*((__Pyx_PyCFunctionFast)meth)) (self, args, nargs, NULL);.            ~~~~~~~~~~~~~~~~~~~~~~~~~~~~~~~~                     ^~~~. /Applications/Xcode.app/Contents/Developer/Toolchains/XcodeDefault.xctoolchain/usr/lib/clang/9.0.0/include/stddef.h:100:18: note: expanded from macro 'NULL'. #    define NULL __null.                  ^~~~~~. /Users/stroncod/.theano/compiledir_Darwin-16.7.0-x86_64-i386-64bit-i386-3.7.0-64/scan_perform/mod.cpp:12617:21: error: no member named 'exc_type' in '_ts'.     *type = tstate->exc_type;.             ~~~~~~  ^. /Users/stroncod/.theano/compiledir_Darwin-16.7.0-x86_64-i386-64bit-i386-3.7.0-64/scan_perform/mod.cpp:12618:22: error: no member named 'exc_value' in '_ts'; did you mean 'curexc_value'?.     *value = tstate->exc_value;.                      ^~~~~~~~~.                      curexc_value. /usr/local/Cellar/python/3.7.0/Frameworks/Python.framework/Versions/3.7/include/python3.7m/pystate.h:237:15: note: 'curexc_value' declared here.     PyObject *curexc_value;.               ^. /Users/stroncod/.theano/compiledir_Darwin-16.7.0-x86_64-i386-64bit-i386-3.7.0-64/scan_perform/mod.cpp:12619:19: error: no member named 'exc_traceback' in '_ts'; did you mean 'curexc_traceback'?.     *tb = tstate->exc_traceback;.                   ^~~~~~~~~~~~~.                   curexc_traceback. /usr/local/Cellar/python/3.7.0/Frameworks/Python.framework/Versions/3.7/include/python3.7m/pystate.h:238:15: note: 'curexc_traceback' declared here.     PyObject *curexc_traceback;.               ^. /Users/stroncod/.theano/compiledir_Darwin-16.7.0-x86_64-i386-64bit-i386-3.7.0-64/scan_perform/mod.cpp:12626:24: error: no member named 'exc_type' in '_ts'.     tmp_type = tstate->exc_type;.                ~~~~~~  ^. /Users/stroncod/.theano/compiledir_Darwin-16.7.0-x86_64-i386-64bit-i386-3.7.0-64/scan_perform/mod.cpp:12627:25: error: no member named 'exc_value' in '_ts'; did you mean 'curexc_value'?.     tmp_value = tstate->exc_value;.                         ^~~~~~~~~.                         curexc_value. /usr/local/Cellar/python/3.7.0/Frameworks/Python.framework/Versions/3.7/include/python3.7m/pystate.h:237:15: note: 'curexc_value' declared here.     PyObject *curexc_value;.               ^. /Users/stroncod/.theano/compiledir_Darwin-16.7.0-x86_64-i386-64bit-i386-3.7.0-64/scan_perform/mod.cpp:12628:22: error: no member named 'exc_traceback' in '_ts'; did you mean 'curexc_traceback'?.     tmp_tb = tstate->exc_traceback;.                      ^~~~~~~~~~~~~.                      curexc_traceback. /usr/local/Cellar/python/3.7.0/Frameworks/Python.framework/Versions/3.7/include/python3.7m/pystate.h:238:15: note: 'curexc_traceback' declared here.     PyObject *curexc_traceback;.               ^. /Users/stroncod/.theano/compiledir_Darwin-16.7.0-x86_64-i386-64bit-i386-3.7.0-64/scan_perform/mod.cpp:12629:13: error: no member named 'exc_type' in '_ts'.     tstate->exc_type = type;.     ~~~~~~  ^. /Users/stroncod/.theano/compiledir_Darwin-16.7.0-x86_64-i386-64bit-i386-3.7.0-64/scan_perform/mod.cpp:12630:13: error: no member named 'exc_value' in '_ts'; did you mean 'curexc_value'?.     tstate->exc_value = value;.             ^~~~~~~~~.             curexc_value. /usr/local/Cellar/python/3.7.0/Frameworks/Python.framework/Versions/3.7/include/python3.7m/pystate.h:237:15: note: 'curexc_value' declared here.     PyObject *curexc_value;.               ^. /Users/stroncod/.theano/compiledir_Darwin-16.7.0-x86_64-i386-64bit-i386-3.7.0-64/scan_perform/mod.cpp:12631:13: error: no member named 'exc_traceback' in '_ts'; did you mean 'curexc_traceback'?.     tstate->exc_traceback = tb;.             ^~~~~~~~~~~~~.             curexc_traceback. /usr/local/Cellar/python/3.7.0/Frameworks/Python.framework/Versions/3.7/include/python3.7m/pystate.h:238:15: note: 'curexc_traceback' declared here.     PyObject *curexc_traceback;.               ^. /Users/stroncod/.theano/compiledir_Darwin-16.7.0-x86_64-i386-64bit-i386-3.7.0-64/scan_perform/mod.cpp:12686:24: error: no member named 'exc_type' in '_ts'.     tmp_type = tstate->exc_type;.                ~~~~~~  ^. /Users/stroncod/.theano/compiledir_Darwin-16.7.0-x86_64-i386-64bit-i386-3.7.0-64/scan_perform/mod.cpp:12687:25: error: no member named 'exc_value' in '_ts'; did you mean 'curexc_value'?.     tmp_value = tstate->exc_value;.                         ^~~~~~~~~.                         curexc_value. /usr/local/Cellar/python/3.7.0/Frameworks/Python.framework/Versions/3.7/include/python3.7m/pystate.h:237:15: note: 'curexc_value' declared here.     PyObject *curexc_value;.               ^. /Users/stroncod/.theano/compiledir_Darwin-16.7.0-x86_64-i386-64bit-i386-3.7.0-64/scan_perform/mod.cpp:12688:22: error: no member named 'exc_traceback' in '_ts'; did you mean 'curexc_traceback'?.     tmp_tb = tstate->exc_traceback;.                      ^~~~~~~~~~~~~.                      curexc_traceback. /usr/local/Cellar/python/3.7.0/Frameworks/Python.framework/Versions/3.7/include/python3.7m/pystate.h:238:15: note: 'curexc_traceback' declared here.     PyObject *curexc_traceback;.               ^. /Users/stroncod/.theano/compiledir_Darwin-16.7.0-x86_64-i386-64bit-i386-3.7.0-64/scan_perform/mod.cpp:12689:13: error: no member named 'exc_type' in '_ts'.     tstate->exc_type = local_type;.     ~~~~~~  ^. /Users/stroncod/.theano/compiledir_Darwin-16.7.0-x86_64-i386-64bit-i386-3.7.0-64/scan_perform/mod.cpp:12690:13: error: no member named 'exc_value' in '_ts'; did you mean 'curexc_value'?.     tstate->exc_value = local_value;.             ^~~~~~~~~.             curexc_value. /usr/local/Cellar/python/3.7.0/Frameworks/Python.framework/Versions/3.7/include/python3.7m/pystate.h:237:15: note: 'curexc_value' declared here.     PyObject *curexc_value;.               ^. /Users/stroncod/.theano/compiledir_Darwin-16.7.0-x86_64-i386-64bit-i386-3.7.0-64/scan_perform/mod.cpp:12691:13: error: no member named 'exc_traceback' in '_ts'; did you mean 'curexc_traceback'?.     tstate->exc_traceback = local_tb;.             ^~~~~~~~~~~~~.             curexc_traceback. /usr/local/Cellar/python/3.7.0/Frameworks/Python.framework/Versions/3.7/include/python3.7m/pystate.h:238:15: note: 'curexc_traceback' declared here.     PyObject *curexc_traceback;.               ^. 16 errors generated.. \")"
     ]
    }
   ],
   "source": [
    "model.fit(series, series, epochs=300, verbose=0)\n",
    "plot_model(model, show_shapes=True, to_file='reconstruct_lstm_autoencoder.png')\n",
    "yhat = model.predict(series, verbose=0)\n",
    "print(yhat[0,:,0])"
   ]
  },
  {
   "cell_type": "code",
   "execution_count": null,
   "metadata": {},
   "outputs": [],
   "source": []
  }
 ],
 "metadata": {
  "kernelspec": {
   "display_name": "Python 3",
   "language": "python",
   "name": "python3"
  },
  "language_info": {
   "codemirror_mode": {
    "name": "ipython",
    "version": 3
   },
   "file_extension": ".py",
   "mimetype": "text/x-python",
   "name": "python",
   "nbconvert_exporter": "python",
   "pygments_lexer": "ipython3",
   "version": "3.7.3"
  }
 },
 "nbformat": 4,
 "nbformat_minor": 2
}
