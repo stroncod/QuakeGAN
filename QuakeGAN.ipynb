{
 "cells": [
  {
   "cell_type": "code",
   "execution_count": 1,
   "metadata": {},
   "outputs": [],
   "source": [
    "import pandas as pd\n",
    "import numpy as np\n",
    "from PIL import Image\n",
    "import matplotlib.pyplot as plt\n",
    "import pickle\n",
    "import matplotlib as mpl\n",
    "from mpl_toolkits.basemap import Basemap   \n",
    "import os\n",
    "mpl.use('Agg')\n",
    "plt.ioff()"
   ]
  },
  {
   "cell_type": "code",
   "execution_count": 4,
   "metadata": {},
   "outputs": [
    {
     "data": {
      "text/html": [
       "<div>\n",
       "<style scoped>\n",
       "    .dataframe tbody tr th:only-of-type {\n",
       "        vertical-align: middle;\n",
       "    }\n",
       "\n",
       "    .dataframe tbody tr th {\n",
       "        vertical-align: top;\n",
       "    }\n",
       "\n",
       "    .dataframe thead th {\n",
       "        text-align: right;\n",
       "    }\n",
       "</style>\n",
       "<table border=\"1\" class=\"dataframe\">\n",
       "  <thead>\n",
       "    <tr style=\"text-align: right;\">\n",
       "      <th></th>\n",
       "      <th>Año</th>\n",
       "      <th>Mes</th>\n",
       "      <th>Día</th>\n",
       "      <th>Hora</th>\n",
       "      <th>Minuto</th>\n",
       "      <th>Segundo</th>\n",
       "      <th>Fecha</th>\n",
       "      <th>Latitud</th>\n",
       "      <th>Longitud</th>\n",
       "      <th>Prof.</th>\n",
       "      <th>Magn</th>\n",
       "      <th>Date</th>\n",
       "      <th>Horario</th>\n",
       "      <th>Dtime</th>\n",
       "      <th>time</th>\n",
       "      <th>diff</th>\n",
       "    </tr>\n",
       "  </thead>\n",
       "  <tbody>\n",
       "    <tr>\n",
       "      <th>0</th>\n",
       "      <td>2000</td>\n",
       "      <td>1</td>\n",
       "      <td>2</td>\n",
       "      <td>3</td>\n",
       "      <td>42</td>\n",
       "      <td>12.7</td>\n",
       "      <td>36527</td>\n",
       "      <td>-33.410</td>\n",
       "      <td>-70.880</td>\n",
       "      <td>81.9</td>\n",
       "      <td>2.5</td>\n",
       "      <td>36527</td>\n",
       "      <td>0.154314</td>\n",
       "      <td>36527.15431</td>\n",
       "      <td>1.154314</td>\n",
       "      <td>0.000000</td>\n",
       "    </tr>\n",
       "    <tr>\n",
       "      <th>1</th>\n",
       "      <td>2000</td>\n",
       "      <td>1</td>\n",
       "      <td>2</td>\n",
       "      <td>5</td>\n",
       "      <td>3</td>\n",
       "      <td>13.1</td>\n",
       "      <td>36527</td>\n",
       "      <td>-33.787</td>\n",
       "      <td>-71.339</td>\n",
       "      <td>45.8</td>\n",
       "      <td>3.7</td>\n",
       "      <td>36527</td>\n",
       "      <td>0.210568</td>\n",
       "      <td>36527.21057</td>\n",
       "      <td>1.210568</td>\n",
       "      <td>0.056255</td>\n",
       "    </tr>\n",
       "    <tr>\n",
       "      <th>2</th>\n",
       "      <td>2000</td>\n",
       "      <td>1</td>\n",
       "      <td>2</td>\n",
       "      <td>18</td>\n",
       "      <td>55</td>\n",
       "      <td>55.0</td>\n",
       "      <td>36527</td>\n",
       "      <td>-31.535</td>\n",
       "      <td>-71.318</td>\n",
       "      <td>35.7</td>\n",
       "      <td>3.8</td>\n",
       "      <td>36527</td>\n",
       "      <td>0.788831</td>\n",
       "      <td>36527.78883</td>\n",
       "      <td>1.788831</td>\n",
       "      <td>0.578263</td>\n",
       "    </tr>\n",
       "    <tr>\n",
       "      <th>3</th>\n",
       "      <td>2000</td>\n",
       "      <td>1</td>\n",
       "      <td>2</td>\n",
       "      <td>19</td>\n",
       "      <td>36</td>\n",
       "      <td>25.8</td>\n",
       "      <td>36527</td>\n",
       "      <td>-32.446</td>\n",
       "      <td>-70.923</td>\n",
       "      <td>95.2</td>\n",
       "      <td>2.7</td>\n",
       "      <td>36527</td>\n",
       "      <td>0.816965</td>\n",
       "      <td>36527.81697</td>\n",
       "      <td>1.816965</td>\n",
       "      <td>0.028134</td>\n",
       "    </tr>\n",
       "    <tr>\n",
       "      <th>4</th>\n",
       "      <td>2000</td>\n",
       "      <td>1</td>\n",
       "      <td>3</td>\n",
       "      <td>2</td>\n",
       "      <td>41</td>\n",
       "      <td>41.7</td>\n",
       "      <td>36528</td>\n",
       "      <td>-32.986</td>\n",
       "      <td>-71.348</td>\n",
       "      <td>41.8</td>\n",
       "      <td>3.6</td>\n",
       "      <td>36528</td>\n",
       "      <td>0.112288</td>\n",
       "      <td>36528.11229</td>\n",
       "      <td>2.112288</td>\n",
       "      <td>0.295323</td>\n",
       "    </tr>\n",
       "  </tbody>\n",
       "</table>\n",
       "</div>"
      ],
      "text/plain": [
       "    Año  Mes  Día  Hora  Minuto  Segundo  Fecha  Latitud  Longitud  Prof.  \\\n",
       "0  2000    1    2     3      42     12.7  36527  -33.410   -70.880   81.9   \n",
       "1  2000    1    2     5       3     13.1  36527  -33.787   -71.339   45.8   \n",
       "2  2000    1    2    18      55     55.0  36527  -31.535   -71.318   35.7   \n",
       "3  2000    1    2    19      36     25.8  36527  -32.446   -70.923   95.2   \n",
       "4  2000    1    3     2      41     41.7  36528  -32.986   -71.348   41.8   \n",
       "\n",
       "   Magn   Date   Horario        Dtime      time      diff  \n",
       "0   2.5  36527  0.154314  36527.15431  1.154314  0.000000  \n",
       "1   3.7  36527  0.210568  36527.21057  1.210568  0.056255  \n",
       "2   3.8  36527  0.788831  36527.78883  1.788831  0.578263  \n",
       "3   2.7  36527  0.816965  36527.81697  1.816965  0.028134  \n",
       "4   3.6  36528  0.112288  36528.11229  2.112288  0.295323  "
      ]
     },
     "execution_count": 4,
     "metadata": {},
     "output_type": "execute_result"
    }
   ],
   "source": [
    "dataset = pd.read_csv('data_earthquake_2000-2017.csv',encoding='latin1', sep=';')\n",
    "dataset.head()"
   ]
  },
  {
   "cell_type": "code",
   "execution_count": 5,
   "metadata": {},
   "outputs": [],
   "source": [
    "%matplotlib inline\n",
    "TIME_STEP = 9\n",
    "IMG_SIZE = 32\n",
    "TIME_WND = 30 #IN DAYS\n"
   ]
  },
  {
   "cell_type": "code",
   "execution_count": 6,
   "metadata": {},
   "outputs": [
    {
     "name": "stdout",
     "output_type": "stream",
     "text": [
      "(85636, 16)\n",
      "(37195, 16)\n"
     ]
    }
   ],
   "source": [
    "print(dataset.shape)\n",
    "dataset = dataset[dataset['Prof.'] >= 60.0 ]\n",
    "print(dataset.shape)"
   ]
  },
  {
   "cell_type": "code",
   "execution_count": 7,
   "metadata": {},
   "outputs": [
    {
     "name": "stdout",
     "output_type": "stream",
     "text": [
      "(37195, 16)\n",
      "(16389, 16)\n"
     ]
    }
   ],
   "source": [
    "zone1 = dataset[dataset['Latitud'] > -23]\n",
    "zone2 = dataset[(dataset.Latitud < -23) & (dataset.Latitud > -34)] \n",
    "zone3 = dataset[dataset['Latitud'] < -34]\n",
    "print(dataset.shape)\n",
    "print(zone1.shape)\n"
   ]
  },
  {
   "cell_type": "code",
   "execution_count": 27,
   "metadata": {},
   "outputs": [
    {
     "name": "stderr",
     "output_type": "stream",
     "text": [
      "/home/sergio/anaconda3/lib/python3.7/site-packages/ipykernel_launcher.py:6: SettingWithCopyWarning: \n",
      "A value is trying to be set on a copy of a slice from a DataFrame.\n",
      "Try using .loc[row_indexer,col_indexer] = value instead\n",
      "\n",
      "See the caveats in the documentation: http://pandas.pydata.org/pandas-docs/stable/indexing.html#indexing-view-versus-copy\n",
      "  \n"
     ]
    }
   ],
   "source": [
    "def scale(data,new_min, new_max):\n",
    "    old_max = data['Magn'].max()\n",
    "    old_min = data['Magn'].min()\n",
    "    old_range =  old_max - old_min\n",
    "    new_range = new_max - new_min \n",
    "    data['Magn'] = data['Magn'].apply(lambda v: int(((v-old_min)*new_range)/old_range)+new_min)\n",
    "    return data\n",
    "\n",
    "zone1 = scale(zone1,25,255)"
   ]
  },
  {
   "cell_type": "code",
   "execution_count": 8,
   "metadata": {},
   "outputs": [],
   "source": [
    "def build_time_series(data,y_col=0):\n",
    "    FIRST = data.Date[:1].values[0]\n",
    "    dim_0 = data.shape[0]- TIME_WND\n",
    "    \n",
    "    y = []\n",
    "    series = []\n",
    "    X = []\n",
    "    k = 1\n",
    "    for i in range(dim_0):\n",
    "        series_df = data[(data.Date >= FIRST+i) & (data.Date <= FIRST+i+TIME_WND)]\n",
    "        k+=1\n",
    "        #print('creating x')\n",
    "        #print(FIRST+i, FIRST+i+TIME_WND)\n",
    "        series.append(series_df)\n",
    "        if(k==TIME_STEP):\n",
    "            #print('creating y')\n",
    "            #print(FIRST+i+TIME_WND)\n",
    "            #print(FIRST+i+TIME_WND*2)\n",
    "            y_df = data[(data.Date > FIRST+i+TIME_WND) & (data.Date < FIRST+i+TIME_WND*2)]\n",
    "            \n",
    "            X.append(series)\n",
    "            y.append(y_df)\n",
    "            series = []\n",
    "            k = 1\n",
    "\n",
    "    return X,y\n",
    "\n",
    "X,y = build_time_series(zone1)"
   ]
  },
  {
   "cell_type": "code",
   "execution_count": 7,
   "metadata": {},
   "outputs": [],
   "source": [
    "def init_latlon(data):\n",
    "    lat_max = data['Latitud'].max()\n",
    "    lat_min = data['Latitud'].min()\n",
    "    lon_max = data['Longitud'].max()\n",
    "    lon_min = data['Longitud'].min()\n",
    "    lat_m = data['Latitud'].mean()\n",
    "    lon_m = data['Longitud'].mean()\n",
    "    \n",
    "    return lat_max,lat_min,lon_max,lon_min,lat_m,lon_m\n",
    "\n",
    "\n",
    "lat_max,lat_min,lon_max,lon_min,lat_m,lon_m = init_latlon(zone1)\n"
   ]
  },
  {
   "cell_type": "code",
   "execution_count": null,
   "metadata": {},
   "outputs": [],
   "source": [
    "def get_marker_color(magnitude):\n",
    "    # Returns green for small earthquakes, yellow for moderate\n",
    "    #  earthquakes, and red for significant earthquakes.\n",
    "    if magnitude < 3.0:\n",
    "        return ('go')\n",
    "    elif magnitude < 5.0:\n",
    "        return ('yo')\n",
    "    else:\n",
    "        return ('ro')\n",
    "\n",
    "def create_pre_images_x(X):\n",
    "    dirpath = os.getcwd()\n",
    "    \n",
    "    for i, serie in enumerate(X):\n",
    "        series_path = dirpath+'/images/pre_images/series_'+str(i)+'_'\n",
    "        for j, data in enumerate(serie):\n",
    "            fig = plt.figure(figsize=(8, 8))\n",
    "            m = Basemap(llcrnrlon=lon_min,llcrnrlat=lat_min,urcrnrlon=lon_max,urcrnrlat=lat_max,\n",
    "                        resolution='i',projection='lcc',lat_0=lat_m,lon_0=lon_m)\n",
    "            m.shadedrelief()\n",
    "            m.drawcoastlines(color='gray')\n",
    "            m.drawcountries(color='gray')\n",
    "            \n",
    "            if not data.empty:\n",
    "                \n",
    "                lat = data['Latitud'].values\n",
    "                lon = data['Longitud'].values\n",
    "                magn = data['Magn'].values\n",
    "                ##print(magn)\n",
    "                for lon, lat, mag in zip(lon, lat, magn):\n",
    "                    x,y = m(lon, lat)\n",
    "\n",
    "                    marker_string = get_marker_color(mag)\n",
    "                    m.plot(x, y, marker_string, markersize=10)\n",
    "            \n",
    "\n",
    "            plt.savefig(series_path+'Xquakemap_'+str(j)+'.jpg')\n",
    "            plt.close()\n",
    "    \n",
    "def create_pre_images_y(y):\n",
    "    dirpath = os.getcwd()\n",
    "    for k, data in enumerate(y):\n",
    "        series_path =  dirpath+'/images/pre_images/series_'+str(k)+'_'\n",
    "        fig = plt.figure(figsize=(8, 8))\n",
    "        m = Basemap(llcrnrlon=lon_min,llcrnrlat=lat_min,urcrnrlon=lon_max,urcrnrlat=lat_max,\n",
    "                    resolution='i',projection='lcc',lat_0=lat_m,lon_0=lon_m)\n",
    "        m.shadedrelief()\n",
    "        m.drawcoastlines(color='gray')\n",
    "        m.drawcountries(color='gray')\n",
    "        if not data.empty:\n",
    "            lat = data['Latitud'].values\n",
    "            lon = data['Longitud'].values\n",
    "            magn = data['Magn'].values\n",
    "            for lon, lat, mag in zip(lon, lat, magn):\n",
    "                x,y = m(lon, lat) \n",
    "                marker_string = get_marker_color(mag)\n",
    "                m.plot(x, y, marker_string, markersize=10)\n",
    "        plt.savefig(series_path+'Yquakemap.jpg')\n",
    "        plt.close()\n",
    "\n",
    "\n",
    "create_pre_images_x(X)\n",
    "create_pre_images_y(y)"
   ]
  },
  {
   "cell_type": "code",
   "execution_count": 12,
   "metadata": {},
   "outputs": [],
   "source": [
    "from PIL import ImageChops\n",
    "import glob\n",
    "def trim(im):\n",
    "    bg = Image.new(im.mode, im.size, im.getpixel((0,0)))\n",
    "    diff = ImageChops.difference(im, bg)\n",
    "    diff = ImageChops.add(diff, diff, 2.0, -100)\n",
    "    bbox = diff.getbbox()\n",
    "    if bbox:\n",
    "        return im.crop(bbox)\n",
    "\n",
    "dirpath = os.getcwd()\n",
    "folderName = dirpath+'/images/pre_images'\n",
    "filePaths = glob.glob(folderName + \"/*.jpg\")\n",
    "\n",
    "\n",
    "for filePath in filePaths:\n",
    "    #print(filePath)\n",
    "    image=Image.open(filePath)\n",
    "    im = trim(image)\n",
    "    im.save(filePath)"
   ]
  },
  {
   "cell_type": "code",
   "execution_count": null,
   "metadata": {},
   "outputs": [],
   "source": [
    "def make_array(dim_x):\n",
    "    arr = []\n",
    "    for i in range(dim_x):\n",
    "        series = []\n",
    "        for j in range(TIME_STEP-1):\n",
    "            series.append(np.asarray(Image.open(dirpath+'/images/pre_images/series_{0}_Xquakemap_{1}.jpg'.format(i,j)).convert('RGB')))\n",
    "        arr.append(np.array(series))\n",
    "    return arr\n",
    "\n",
    "def gallery(array, ncols=4):\n",
    "    nindex, height, width, intensity = array.shape\n",
    "    nrows = nindex//ncols\n",
    "    assert nindex == nrows*ncols\n",
    "    # want result.shape = (height*nrows, width*ncols, intensity)\n",
    "    result = (array.reshape(nrows, ncols, height, width, intensity)\n",
    "              .swapaxes(1,2)\n",
    "              .reshape(height*nrows, width*ncols, intensity))\n",
    "    return result\n",
    "\n",
    "make_array(len(X))\n",
    "for i,series in enumerate(array):\n",
    "    im = Image.fromarray(gallery(array))\n",
    "    im.save(dirpath+'/images/gallery/series_{0}_Xquakemap.jpg'.format(i))"
   ]
  },
  {
   "cell_type": "code",
   "execution_count": 39,
   "metadata": {},
   "outputs": [],
   "source": []
  },
  {
   "cell_type": "code",
   "execution_count": 43,
   "metadata": {},
   "outputs": [],
   "source": []
  },
  {
   "cell_type": "code",
   "execution_count": 16,
   "metadata": {},
   "outputs": [],
   "source": []
  },
  {
   "cell_type": "code",
   "execution_count": 46,
   "metadata": {},
   "outputs": [],
   "source": []
  },
  {
   "cell_type": "code",
   "execution_count": 21,
   "metadata": {},
   "outputs": [],
   "source": []
  },
  {
   "cell_type": "code",
   "execution_count": 62,
   "metadata": {},
   "outputs": [],
   "source": []
  },
  {
   "cell_type": "code",
   "execution_count": 11,
   "metadata": {},
   "outputs": [],
   "source": []
  },
  {
   "cell_type": "code",
   "execution_count": 17,
   "metadata": {},
   "outputs": [],
   "source": []
  },
  {
   "cell_type": "code",
   "execution_count": 18,
   "metadata": {},
   "outputs": [
    {
     "data": {
      "text/plain": [
       "3429"
      ]
     },
     "execution_count": 18,
     "metadata": {},
     "output_type": "execute_result"
    }
   ],
   "source": []
  },
  {
   "cell_type": "code",
   "execution_count": null,
   "metadata": {},
   "outputs": [],
   "source": []
  }
 ],
 "metadata": {
  "kernelspec": {
   "display_name": "Python 3",
   "language": "python",
   "name": "python3"
  },
  "language_info": {
   "codemirror_mode": {
    "name": "ipython",
    "version": 3
   },
   "file_extension": ".py",
   "mimetype": "text/x-python",
   "name": "python",
   "nbconvert_exporter": "python",
   "pygments_lexer": "ipython3",
   "version": "3.7.3"
  }
 },
 "nbformat": 4,
 "nbformat_minor": 2
}
